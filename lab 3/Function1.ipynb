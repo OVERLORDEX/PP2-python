{
 "cells": [
  {
   "cell_type": "markdown",
   "metadata": {},
   "source": [
    "<<Python Function Topic 1>>"
   ]
  },
  {
   "cell_type": "markdown",
   "metadata": {},
   "source": [
    "#TASK1\n",
    "\n",
    "A recipe you are reading states how many grams you need for the ingredient. Unfortunately, your store only sells items in ounces. Create a function to convert grams to ounces. ounces = 28.3495231 * grams"
   ]
  },
  {
   "cell_type": "code",
   "execution_count": 2,
   "metadata": {},
   "outputs": [
    {
     "name": "stdout",
     "output_type": "stream",
     "text": [
      "100 grams is 3.5273961980686726 ounces\n"
     ]
    }
   ],
   "source": [
    "def grams_to_ounces(grams):\n",
    "    return grams / 28.3495231\n",
    "\n",
    "# Example:\n",
    "print(\"100 grams is\", grams_to_ounces(100), \"ounces\")"
   ]
  },
  {
   "cell_type": "markdown",
   "metadata": {},
   "source": [
    "#TASK2\n",
    "\n",
    "Read in a Fahrenheit temperature. Calculate and display the equivalent centigrade temperature. The following formula is used for the conversion: C = (5 / 9) * (F – 32)"
   ]
  },
  {
   "cell_type": "code",
   "execution_count": 4,
   "metadata": {},
   "outputs": [
    {
     "name": "stdout",
     "output_type": "stream",
     "text": [
      " 68°F is 20.0 °C\n"
     ]
    }
   ],
   "source": [
    "def fahrenheit_to_centigrade(fahrenheit):\n",
    "    return (5 / 9) * (fahrenheit - 32)\n",
    "\n",
    "# Example:\n",
    "print(\" 68°F is\", fahrenheit_to_centigrade(68), \"°C\")"
   ]
  },
  {
   "cell_type": "markdown",
   "metadata": {},
   "source": [
    "#TASK3\n",
    "\n",
    "Write a program to solve a classic puzzle: We count 35 heads and 94 legs among the chickens and rabbits in a farm. How many rabbits and how many chickens do we have? create function: solve(numheads, numlegs):"
   ]
  },
  {
   "cell_type": "code",
   "execution_count": 7,
   "metadata": {},
   "outputs": [
    {
     "name": "stdout",
     "output_type": "stream",
     "text": [
      " With 35 heads and 94 legs: Chickens = 23, Rabbits = 12\n"
     ]
    }
   ],
   "source": [
    "def solve(numheads, numlegs):\n",
    "    rabbits = (numlegs - 2 * numheads) / 2\n",
    "    chickens = numheads - rabbits\n",
    "    return int(chickens), int(rabbits)\n",
    "\n",
    "# Example:\n",
    "heads, legs = 35, 94\n",
    "chickens, rabbits = solve(heads, legs)\n",
    "print(f\" With {heads} heads and {legs} legs: Chickens = {chickens}, Rabbits = {rabbits}\")"
   ]
  },
  {
   "cell_type": "markdown",
   "metadata": {},
   "source": [
    "#TASK4\n",
    "\n",
    "You are given list of numbers separated by spaces. Write a function filter_prime which will take list of numbers as an agrument and returns only prime numbers from the list."
   ]
  },
  {
   "cell_type": "code",
   "execution_count": 11,
   "metadata": {},
   "outputs": [
    {
     "name": "stdout",
     "output_type": "stream",
     "text": [
      "Prime numbers: [2, 3, 5, 7]\n"
     ]
    }
   ],
   "source": [
    "def filter_prime(numbers):\n",
    "    is_prime = lambda n: n > 1 and all(n % i != 0 for i in range(2, int(n**0.5) + 1))\n",
    "    return list(filter(is_prime, numbers))\n",
    "\n",
    "# Example:\n",
    "nums = [1, 2, 3, 4, 5, 6, 7, 8, 9, 10]\n",
    "print(\"Prime numbers:\", filter_prime(nums))"
   ]
  },
  {
   "cell_type": "markdown",
   "metadata": {},
   "source": [
    "#TASK5\n",
    "\n",
    "Write a function that accepts string from user and print all permutations of that string."
   ]
  },
  {
   "cell_type": "code",
   "execution_count": 12,
   "metadata": {},
   "outputs": [
    {
     "name": "stdout",
     "output_type": "stream",
     "text": [
      "Permutations of 'abc':\n",
      "acb\n",
      "abc\n",
      "bac\n",
      "cab\n",
      "bca\n",
      "cba\n"
     ]
    }
   ],
   "source": [
    "import itertools\n",
    "\n",
    "def print_permutations(s):\n",
    "    perms = {''.join(p) for p in itertools.permutations(s)}\n",
    "    for perm in perms:\n",
    "        print(perm)\n",
    "\n",
    "# Example:\n",
    "print(\"Permutations of 'abc':\")\n",
    "print_permutations(\"abc\")"
   ]
  },
  {
   "cell_type": "markdown",
   "metadata": {},
   "source": [
    "#TASK6\n",
    "\n",
    "Write a function that accepts string from user, return a sentence with the words reversed. We are ready -> ready are We"
   ]
  },
  {
   "cell_type": "code",
   "execution_count": 13,
   "metadata": {},
   "outputs": [
    {
     "name": "stdout",
     "output_type": "stream",
     "text": [
      "Reversed sentence: ready are We\n"
     ]
    }
   ],
   "source": [
    "def reverse_sentence(sentence):\n",
    "    words = sentence.split()\n",
    "    return \" \".join(words[::-1])\n",
    "\n",
    "# Example:\n",
    "input_sentence = \"We are ready\"\n",
    "print(\"Reversed sentence:\", reverse_sentence(input_sentence))"
   ]
  },
  {
   "cell_type": "markdown",
   "metadata": {},
   "source": [
    "#TASK7\n",
    "\n",
    "Given a list of ints, return True if the array contains a 3 next to a 3 somewhere.\n",
    "\n",
    "def has_33(nums):\n",
    "    pass\n",
    "\n",
    "has_33([1, 3, 3]) → True\n",
    "\n",
    "has_33([1, 3, 1, 3]) → False\n",
    "\n",
    "has_33([3, 1, 3]) → False"
   ]
  },
  {
   "cell_type": "code",
   "execution_count": 16,
   "metadata": {},
   "outputs": [
    {
     "name": "stdout",
     "output_type": "stream",
     "text": [
      "has_33([1, 3, 3]) → True\n",
      "has_33([1, 3, 1, 3]) → False\n",
      "has_33([3, 1, 3]) → False\n"
     ]
    }
   ],
   "source": [
    "def has_33(nums):\n",
    "    for i in range(len(nums) - 1):\n",
    "        if nums[i] == 3 and nums[i + 1] == 3:\n",
    "            return True\n",
    "    return False\n",
    "\n",
    "# Examples:\n",
    "print(\"has_33([1, 3, 3]) →\", has_33([1, 3, 3]))\n",
    "print(\"has_33([1, 3, 1, 3]) →\", has_33([1, 3, 1, 3]))\n",
    "print(\"has_33([3, 1, 3]) →\", has_33([3, 1, 3]))"
   ]
  },
  {
   "cell_type": "markdown",
   "metadata": {},
   "source": [
    "#TASK8\n",
    "\n",
    "Write a function that takes in a list of integers and returns True if it contains 007 in order\n",
    "\n",
    "def spy_game(nums):\n",
    "    pass\n",
    "\n",
    "spy_game([1,2,4,0,0,7,5]) --> True\n",
    "\n",
    "spy_game([1,0,2,4,0,5,7]) --> True\n",
    "\n",
    "spy_game([1,7,2,0,4,5,0]) --> False"
   ]
  },
  {
   "cell_type": "code",
   "execution_count": 17,
   "metadata": {},
   "outputs": [
    {
     "name": "stdout",
     "output_type": "stream",
     "text": [
      "spy_game([1,2,4,0,0,7,5]) → True\n",
      "spy_game([1,0,2,4,0,5,7]) → True\n",
      "spy_game([1,7,2,0,4,5,0]) → False\n"
     ]
    }
   ],
   "source": [
    "def spy_game(nums):\n",
    "    code = [0, 0, 7]\n",
    "    for num in nums:\n",
    "        if num == code[0]:\n",
    "            code.pop(0)\n",
    "        if not code:\n",
    "            return True\n",
    "    return False\n",
    "\n",
    "# Examples:\n",
    "print(\"spy_game([1,2,4,0,0,7,5]) →\", spy_game([1,2,4,0,0,7,5]))\n",
    "print(\"spy_game([1,0,2,4,0,5,7]) →\", spy_game([1,0,2,4,0,5,7]))\n",
    "print(\"spy_game([1,7,2,0,4,5,0]) →\", spy_game([1,7,2,0,4,5,0]))"
   ]
  },
  {
   "cell_type": "markdown",
   "metadata": {},
   "source": [
    "#TASK9\n",
    "\n",
    "Write a function that computes the volume of a sphere given its radius."
   ]
  },
  {
   "cell_type": "code",
   "execution_count": 18,
   "metadata": {},
   "outputs": [
    {
     "name": "stdout",
     "output_type": "stream",
     "text": [
      "Volume of a sphere with radius 3: 113.09733552923254\n"
     ]
    }
   ],
   "source": [
    "import math\n",
    "\n",
    "def sphere_volume(radius):\n",
    "    return (4/3) * math.pi * radius**3\n",
    "\n",
    "# Example:\n",
    "print(\"Volume of a sphere with radius 3:\", sphere_volume(3))"
   ]
  },
  {
   "cell_type": "markdown",
   "metadata": {},
   "source": [
    "#TASK10\n",
    "\n",
    "Write a Python function that takes a list and returns a new list with unique elements of the first list. Note: don't use collection set."
   ]
  },
  {
   "cell_type": "code",
   "execution_count": 22,
   "metadata": {},
   "outputs": [
    {
     "name": "stdout",
     "output_type": "stream",
     "text": [
      "Unique elements: [1, 2, 3, 4, 5]\n"
     ]
    }
   ],
   "source": [
    "def unique_list(lst):\n",
    "    unique = []\n",
    "    for item in lst:\n",
    "        if item not in unique:\n",
    "            unique.append(item)\n",
    "    return unique\n",
    "\n",
    "# Example:\n",
    "print(\"Unique elements:\",unique_list([1,2,3,2,1,4,5]))\n"
   ]
  },
  {
   "cell_type": "markdown",
   "metadata": {},
   "source": [
    "#TASK11\n",
    "\n",
    "Write a Python function that checks whether a word or phrase is palindrome or not. Note: A palindrome is word, phrase, or sequence that reads the same backward as forward, e.g., madam"
   ]
  },
  {
   "cell_type": "code",
   "execution_count": 24,
   "metadata": {},
   "outputs": [
    {
     "name": "stdout",
     "output_type": "stream",
     "text": [
      "'madam' is a palindrome → True\n",
      "'We are ready' is a palindrome → False\n"
     ]
    }
   ],
   "source": [
    "def is_palindrome(s):\n",
    "    s = s.replace(\" \", \"\").lower()\n",
    "    return s == s[::-1]\n",
    "\n",
    "# Examples:\n",
    "print(\"'madam' is a palindrome →\", is_palindrome(\"madam\"))\n",
    "print(\"'We are ready' is a palindrome →\", is_palindrome(\"We are ready\"))"
   ]
  },
  {
   "cell_type": "markdown",
   "metadata": {},
   "source": [
    "#TASK12\n",
    "\n",
    "Define a functino histogram() that takes a list of integers and prints a histogram to the screen. For example, histogram([4, 9, 7]) should print the following:"
   ]
  },
  {
   "cell_type": "code",
   "execution_count": 25,
   "metadata": {},
   "outputs": [
    {
     "name": "stdout",
     "output_type": "stream",
     "text": [
      "Histogram for [4, 9, 7]:\n",
      "****\n",
      "*********\n",
      "*******\n"
     ]
    }
   ],
   "source": [
    "def histogram(lst):\n",
    "    for num in lst:\n",
    "        print(\"*\" * num)\n",
    "\n",
    "# Example:\n",
    "print(\"Histogram for [4, 9, 7]:\")\n",
    "histogram([4, 9, 7])"
   ]
  },
  {
   "cell_type": "markdown",
   "metadata": {},
   "source": [
    "#TASK13\n",
    "\n",
    "Write a program able to play the \"Guess the number\" - game, where the number to be guessed is randomly chosen between 1 and 20. This is how it should work when run in a terminal:\n",
    "\n",
    "*Hello! What is your name?\n",
    "\n",
    "KBTU\n",
    "\n",
    "*Well, KBTU, I am thinking of a number between 1 and 20.\n",
    "Take a guess.\n",
    "\n",
    "12\n",
    "\n",
    "*Your guess is too low.\n",
    "\n",
    "Take a guess.\n",
    "16\n",
    "\n",
    "*Your guess is too low.\n",
    "\n",
    "Take a guess.\n",
    "19\n",
    "\n",
    "*Good job, KBTU! You guessed my number in 3 guesses!"
   ]
  },
  {
   "cell_type": "code",
   "execution_count": 28,
   "metadata": {},
   "outputs": [
    {
     "name": "stdout",
     "output_type": "stream",
     "text": [
      "Well, JAMES, I am thinking of a number between 1 and 20.\n",
      "Your guess is too low.\n",
      "Your guess is too low.\n",
      "Your guess is too low.\n",
      "Your guess is too high.\n",
      "Your guess is too high.\n",
      "Your guess is too high.\n",
      "Your guess is too high.\n",
      "Your guess is too high.\n",
      "Your guess is too high.\n",
      "Your guess is too high.\n",
      "Your guess is too high.\n",
      "Your guess is too high.\n",
      "Good job, JAMES! You guessed my number in 13 guesses!\n"
     ]
    }
   ],
   "source": [
    "import random\n",
    "\n",
    "def guess_the_number():\n",
    "    name = input(\"Hello! What is your name?\\n\")\n",
    "    number = random.randint(1, 20)\n",
    "    print(f\"Well, {name}, I am thinking of a number between 1 and 20.\")\n",
    "    guesses = 0\n",
    "\n",
    "    while True:\n",
    "        guess = int(input(\"Take a guess.\\n\"))\n",
    "        guesses += 1\n",
    "        if guess < number:\n",
    "            print(\"Your guess is too low.\")\n",
    "        elif guess > number:\n",
    "            print(\"Your guess is too high.\")\n",
    "        else:\n",
    "            print(f\"Good job, {name}! You guessed my number in {guesses} guesses!\")\n",
    "            break\n",
    "\n",
    "guess_the_number()"
   ]
  }
 ],
 "metadata": {
  "kernelspec": {
   "display_name": "Python 3",
   "language": "python",
   "name": "python3"
  },
  "language_info": {
   "codemirror_mode": {
    "name": "ipython",
    "version": 3
   },
   "file_extension": ".py",
   "mimetype": "text/x-python",
   "name": "python",
   "nbconvert_exporter": "python",
   "pygments_lexer": "ipython3",
   "version": "3.13.1"
  }
 },
 "nbformat": 4,
 "nbformat_minor": 2
}
