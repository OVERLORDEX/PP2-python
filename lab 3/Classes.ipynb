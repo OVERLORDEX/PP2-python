{
 "cells": [
  {
   "cell_type": "markdown",
   "metadata": {},
   "source": [
    "<<Python Classes TOPIC 1>>"
   ]
  },
  {
   "cell_type": "markdown",
   "metadata": {},
   "source": [
    "#TASK1\n",
    "\n",
    "Define a class which has at least two methods: getString: to get a string from console input printString: to print the string in upper case."
   ]
  },
  {
   "cell_type": "code",
   "execution_count": 11,
   "metadata": {},
   "outputs": [
    {
     "name": "stdout",
     "output_type": "stream",
     "text": [
      "HOLLOW PURPLE\n"
     ]
    }
   ],
   "source": [
    "class InputOutputString:\n",
    "    def __init__(self):\n",
    "        self.s = \"\"\n",
    "\n",
    "    def getString(self):\n",
    "        self.s = input(\"ENTER HERE: \")\n",
    "\n",
    "    def printString(self):\n",
    "        print(self.s.upper())\n",
    "\n",
    "\n",
    "if __name__ == '__main__':\n",
    "    ios = InputOutputString()\n",
    "    ios.getString()\n",
    "    ios.printString()\n"
   ]
  },
  {
   "cell_type": "markdown",
   "metadata": {},
   "source": [
    "#TASK2\n",
    "\n",
    "Define a class named Shape and its subclass Square. The Square class has an init function which takes a length as argument. Both classes have a area function which can print the area of the shape where Shape's area is 0 by default."
   ]
  },
  {
   "cell_type": "code",
   "execution_count": 12,
   "metadata": {},
   "outputs": [
    {
     "name": "stdout",
     "output_type": "stream",
     "text": [
      "Shape Area: 0\n",
      "Square area: 81\n"
     ]
    }
   ],
   "source": [
    "class Shape:\n",
    "    def area(self):\n",
    "        print(\"Shape Area: 0\")\n",
    "\n",
    "\n",
    "class Square(Shape):\n",
    "    def __init__(self, length):\n",
    "        self.length = length\n",
    "\n",
    "    def area(self):\n",
    "        area_value = self.length ** 2\n",
    "        print(f\"Square area: {area_value}\")\n",
    "\n",
    "\n",
    "if __name__ == '__main__':\n",
    "    shape = Shape()\n",
    "    shape.area()\n",
    "\n",
    "    square = Square(9)\n",
    "    square.area()\n"
   ]
  },
  {
   "cell_type": "markdown",
   "metadata": {},
   "source": [
    "#TASK3\n",
    "\n",
    "Define a class named Rectangle which inherits from Shape class from task 2. Class instance can be constructed by a length and width. The Rectangle class has a method which can compute the area."
   ]
  },
  {
   "cell_type": "code",
   "execution_count": 13,
   "metadata": {},
   "outputs": [
    {
     "name": "stdout",
     "output_type": "stream",
     "text": [
      "Area of a​ rectangle: 42\n"
     ]
    }
   ],
   "source": [
    "class Rectangle(Shape):\n",
    "    def __init__(self, length, width):\n",
    "        self.length = length\n",
    "        self.width = width\n",
    "\n",
    "    def area(self):\n",
    "        area_value = self.length * self.width\n",
    "        print(f\"Area of a​ rectangle: {area_value}\")\n",
    "\n",
    "\n",
    "if __name__ == '__main__':\n",
    "    rectangle = Rectangle(7, 6)\n",
    "    rectangle.area()\n"
   ]
  },
  {
   "cell_type": "markdown",
   "metadata": {},
   "source": [
    "#TASK4\n",
    "\n",
    "Write the definition of a Point class. Objects from this class should have a\n",
    "\n",
    "*a method show to display the coordinates of the point\n",
    "\n",
    "*a method move to change these coordinates\n",
    "\n",
    "*a method dist that computes the distance between 2 points"
   ]
  },
  {
   "cell_type": "code",
   "execution_count": 14,
   "metadata": {},
   "outputs": [
    {
     "name": "stdout",
     "output_type": "stream",
     "text": [
      "point has coordinates: (2, 3)\n",
      "point has coordinates: (5, 7)\n",
      "Distance between points: 5.00\n",
      "point has coordinates: (5, 7)\n",
      "New distance between points: 0.00\n"
     ]
    }
   ],
   "source": [
    "import math\n",
    "\n",
    "class Point:\n",
    "    def __init__(self, x=0, y=0):\n",
    "        self.x = x\n",
    "        self.y = y\n",
    "\n",
    "    def show(self):\n",
    "        print(f\"point has coordinates: ({self.x}, {self.y})\")\n",
    "\n",
    "    def move(self, dx, dy):\n",
    "        self.x += dx\n",
    "        self.y += dy\n",
    "\n",
    "    def dist(self, other_point):\n",
    "        return math.sqrt((self.x - other_point.x) ** 2 + (self.y - other_point.y) ** 2)\n",
    "\n",
    "\n",
    "if __name__ == '__main__':\n",
    "    p1 = Point(2, 3)\n",
    "    p2 = Point(5, 7)\n",
    "\n",
    "    p1.show()\n",
    "    p2.show()\n",
    "\n",
    "    print(f\"Distance between points: {p1.dist(p2):.2f}\")\n",
    "\n",
    "    p1.move(3, 4)\n",
    "    p1.show()\n",
    "    print(f\"New distance between points: {p1.dist(p2):.2f}\")\n"
   ]
  },
  {
   "cell_type": "markdown",
   "metadata": {},
   "source": [
    "#TASK5\n",
    "\n",
    "Create a bank account class that has attributes owner, balance and two methods deposit and withdraw. Withdrawals may not exceed the available balance. Instantiate your class, make several deposits and withdrawals, and test to make sure the account can't be overdrawn.\n",
    "\n",
    "class Account:\n",
    "    pass"
   ]
  },
  {
   "cell_type": "code",
   "execution_count": 15,
   "metadata": {},
   "outputs": [
    {
     "name": "stdout",
     "output_type": "stream",
     "text": [
      "Account Holder: Amir, initial balance: 1000\n",
      "Deposit 500 completed. New balance: 1500\n",
      "Withdrawal 200 completed. Account balance: 1300\n",
      "No money for cashout.\n"
     ]
    }
   ],
   "source": [
    "class Account:\n",
    "    def __init__(self, owner, balance=0):\n",
    "        self.owner = owner\n",
    "        self.balance = balance\n",
    "\n",
    "    def deposit(self, amount):\n",
    "        if amount > 0:\n",
    "            self.balance += amount\n",
    "            print(f\"Deposit {amount} completed. New balance: {self.balance}\")\n",
    "        else:\n",
    "            print(\"The deposit amount must be positive.\")\n",
    "\n",
    "    def withdraw(self, amount):\n",
    "        if amount > self.balance:\n",
    "            print(\"No money for cashout.\")\n",
    "        elif amount <= 0:\n",
    "            print(\"The withdrawal amount must be positive.\")\n",
    "        else:\n",
    "            self.balance -= amount\n",
    "            print(f\"Withdrawal {amount} completed. Account balance: {self.balance}\")\n",
    "\n",
    "\n",
    "if __name__ == '__main__':\n",
    "    acc = Account(\"Amir\", 1000)\n",
    "    print(f\"Account Holder: {acc.owner}, initial balance: {acc.balance}\")\n",
    "\n",
    "    acc.deposit(500)\n",
    "    acc.withdraw(200)\n",
    "    acc.withdraw(1500)\n"
   ]
  },
  {
   "cell_type": "markdown",
   "metadata": {},
   "source": [
    "#TASK6\n",
    "\n",
    "Write a program which can filter prime numbers in a list by using filter function. Note: Use lambda to define anonymous functions."
   ]
  },
  {
   "cell_type": "code",
   "execution_count": 17,
   "metadata": {},
   "outputs": [
    {
     "name": "stdout",
     "output_type": "stream",
     "text": [
      "Prime numbers: [2, 3, 5, 7, 11, 13, 17, 19]\n"
     ]
    }
   ],
   "source": [
    "def is_prime(n):\n",
    "    if n <= 1:\n",
    "        return False\n",
    "    for i in range(2, int(n ** 0.5) + 1):\n",
    "        if n % i == 0:\n",
    "            return False\n",
    "    return True\n",
    "\n",
    "numbers = [2, 3, 4, 5, 6, 7, 8, 9, 10, 11, 12, 13, 14, 15, 16, 17, 18, 19, 20]\n",
    "\n",
    "primes = list(filter(lambda x: is_prime(x), numbers))\n",
    "print(\"Prime numbers:\", primes)\n"
   ]
  }
 ],
 "metadata": {
  "kernelspec": {
   "display_name": "Python 3",
   "language": "python",
   "name": "python3"
  },
  "language_info": {
   "codemirror_mode": {
    "name": "ipython",
    "version": 3
   },
   "file_extension": ".py",
   "mimetype": "text/x-python",
   "name": "python",
   "nbconvert_exporter": "python",
   "pygments_lexer": "ipython3",
   "version": "3.13.1"
  }
 },
 "nbformat": 4,
 "nbformat_minor": 2
}
