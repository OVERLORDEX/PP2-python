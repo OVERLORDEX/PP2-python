{
 "cells": [
  {
   "cell_type": "markdown",
   "metadata": {},
   "source": [
    "<<Python Function Topic 2>>"
   ]
  },
  {
   "cell_type": "markdown",
   "metadata": {},
   "source": [
    "# Dictionary of movies\n",
    "\n",
    "movies = [\n",
    "{\"name\": \"Usual Suspects\",\n",
    "\n",
    "\"imdb\": 7.0,\n",
    "\n",
    "\"category\": \"Thriller\"\n",
    "}\n",
    "\n",
    "{\n",
    "\"name\": \"Hitman\",\n",
    "\n",
    "\"imdb\": 6.3,\n",
    "\n",
    "\"category\": \"Action\"\n",
    "},\n",
    "\n",
    "{\n",
    "\"name\": \"Dark Knight\",\n",
    "\n",
    "\"imdb\": 9.0,\n",
    "\n",
    "\"category\": \"Adventure\"\n",
    "},\n",
    "\n",
    "{\n",
    "\"name\": \"The Help\",\n",
    "\n",
    "\"imdb\": 8.0,\n",
    "\n",
    "\"category\": \"Drama\"\n",
    "},\n",
    "\n",
    "{\n",
    "\"name\": \"The Choice\",\n",
    "\n",
    "\"imdb\": 6.2,\n",
    "\n",
    "\"category\": \"Romance\"\n",
    "},\n",
    "\n",
    "{\n",
    "\"name\": \"Colonia\",\n",
    "\n",
    "\"imdb\": 7.4,\n",
    "\n",
    "\"category\": \"Romance\"\n",
    "},\n",
    "\n",
    "{\n",
    "\"name\": \"Love\",\n",
    "\n",
    "\"imdb\": 6.0,\n",
    "\n",
    "\"category\": \"Romance\"\n",
    "},\n",
    "\n",
    "{\n",
    "\"name\": \"Bride Wars\",\n",
    "\n",
    "\"imdb\": 5.4,\n",
    "\n",
    "\"category\": \"Romance\"\n",
    "},\n",
    "\n",
    "{\n",
    "\"name\": \"AlphaJet\",\n",
    "\n",
    "\"imdb\": 3.2,\n",
    "\n",
    "\"category\": \"War\"\n",
    "},\n",
    "\n",
    "{\n",
    "\"name\": \"Ringing Crime\",\n",
    "\n",
    "\"imdb\": 4.0,\n",
    "\n",
    "\"category\": \"Crime\"\n",
    "},\n",
    "\n",
    "{\n",
    "\"name\": \"Joking muck\",\n",
    "\n",
    "\"imdb\": 7.2,\n",
    "\n",
    "\"category\": \"Comedy\"\n",
    "},\n",
    "\n",
    "{\n",
    "\"name\": \"What is the name\",\n",
    "\n",
    "\"imdb\": 9.2,\n",
    "\n",
    "\"category\": \"Suspense\"\n",
    "},\n",
    "\n",
    "{\n",
    "\"name\": \"Detective\",\n",
    "\n",
    "\"imdb\": 7.0,\n",
    "\n",
    "\"category\": \"Suspense\"\n",
    "},\n",
    "\n",
    "{\n",
    "\"name\": \"Exam\",\n",
    "\n",
    "\"imdb\": 4.2,\n",
    "\n",
    "\"category\": \"Thriller\"\n",
    "},\n",
    "\n",
    "{\n",
    "\"name\": \"We Two\",\n",
    "\n",
    "\"imdb\": 7.2,\n",
    "\n",
    "\"category\": \"Romance\"\n",
    "}\n",
    "]"
   ]
  },
  {
   "cell_type": "markdown",
   "metadata": {},
   "source": [
    "#TASK1\n",
    "\n",
    "Write a function that takes a single movie and returns True if its IMDB score is above 5.5"
   ]
  },
  {
   "cell_type": "code",
   "execution_count": 15,
   "metadata": {},
   "outputs": [
    {
     "name": "stdout",
     "output_type": "stream",
     "text": [
      "1) Is 'Hitman' above 5.5 IMDB? -> True\n"
     ]
    }
   ],
   "source": [
    "# Dictionary of movies\n",
    "movies = [\n",
    "    {\"name\": \"Usual Suspects\", \"imdb\": 7.0, \"category\": \"Thriller\"},\n",
    "    {\"name\": \"Hitman\", \"imdb\": 6.3, \"category\": \"Action\"},\n",
    "    {\"name\": \"Dark Knight\", \"imdb\": 9.0, \"category\": \"Adventure\"},\n",
    "    {\"name\": \"The Help\", \"imdb\": 8.0, \"category\": \"Drama\"},\n",
    "    {\"name\": \"The Choice\", \"imdb\": 6.2, \"category\": \"Romance\"},\n",
    "    {\"name\": \"Colonia\", \"imdb\": 7.4, \"category\": \"Romance\"},\n",
    "    {\"name\": \"Love\", \"imdb\": 6.0, \"category\": \"Romance\"},\n",
    "    {\"name\": \"Bride Wars\", \"imdb\": 5.4, \"category\": \"Romance\"},\n",
    "    {\"name\": \"AlphaJet\", \"imdb\": 3.2, \"category\": \"War\"},\n",
    "    {\"name\": \"Ringing Crime\", \"imdb\": 4.0, \"category\": \"Crime\"},\n",
    "    {\"name\": \"Joking muck\", \"imdb\": 7.2, \"category\": \"Comedy\"},\n",
    "    {\"name\": \"What is the name\", \"imdb\": 9.2, \"category\": \"Suspense\"},\n",
    "    {\"name\": \"Detective\", \"imdb\": 7.0, \"category\": \"Suspense\"},\n",
    "    {\"name\": \"Exam\", \"imdb\": 4.2, \"category\": \"Thriller\"},\n",
    "    {\"name\": \"We Two\", \"imdb\": 7.2, \"category\": \"Romance\"}\n",
    "]\n",
    "\n",
    "def is_movie_above_5_5(movie):\n",
    "    return movie.get(\"imdb\", 0) > 5.5\n",
    "\n",
    "#EXAMPLE\n",
    "if __name__ == \"__main__\":\n",
    "    movie = movies[1]\n",
    "    print(f\"1) Is '{movie['name']}' above 5.5 IMDB? -> {is_movie_above_5_5(movie)}\")"
   ]
  },
  {
   "cell_type": "markdown",
   "metadata": {},
   "source": [
    "#TASK2\n",
    "\n",
    "Write a function that returns a sublist of movies with an IMDB score above 5.5."
   ]
  },
  {
   "cell_type": "code",
   "execution_count": 16,
   "metadata": {},
   "outputs": [
    {
     "name": "stdout",
     "output_type": "stream",
     "text": [
      "Movies with IMDB score above 5.5:\n",
      "   Usual Suspects - 7.0\n",
      "   Hitman - 6.3\n",
      "   Dark Knight - 9.0\n",
      "   The Help - 8.0\n",
      "   The Choice - 6.2\n",
      "   Colonia - 7.4\n",
      "   Love - 6.0\n",
      "   Joking muck - 7.2\n",
      "   What is the name - 9.2\n",
      "   Detective - 7.0\n",
      "   We Two - 7.2\n"
     ]
    }
   ],
   "source": [
    "# Dictionary of movies\n",
    "movies = [\n",
    "    {\"name\": \"Usual Suspects\", \"imdb\": 7.0, \"category\": \"Thriller\"},\n",
    "    {\"name\": \"Hitman\", \"imdb\": 6.3, \"category\": \"Action\"},\n",
    "    {\"name\": \"Dark Knight\", \"imdb\": 9.0, \"category\": \"Adventure\"},\n",
    "    {\"name\": \"The Help\", \"imdb\": 8.0, \"category\": \"Drama\"},\n",
    "    {\"name\": \"The Choice\", \"imdb\": 6.2, \"category\": \"Romance\"},\n",
    "    {\"name\": \"Colonia\", \"imdb\": 7.4, \"category\": \"Romance\"},\n",
    "    {\"name\": \"Love\", \"imdb\": 6.0, \"category\": \"Romance\"},\n",
    "    {\"name\": \"Bride Wars\", \"imdb\": 5.4, \"category\": \"Romance\"},\n",
    "    {\"name\": \"AlphaJet\", \"imdb\": 3.2, \"category\": \"War\"},\n",
    "    {\"name\": \"Ringing Crime\", \"imdb\": 4.0, \"category\": \"Crime\"},\n",
    "    {\"name\": \"Joking muck\", \"imdb\": 7.2, \"category\": \"Comedy\"},\n",
    "    {\"name\": \"What is the name\", \"imdb\": 9.2, \"category\": \"Suspense\"},\n",
    "    {\"name\": \"Detective\", \"imdb\": 7.0, \"category\": \"Suspense\"},\n",
    "    {\"name\": \"Exam\", \"imdb\": 4.2, \"category\": \"Thriller\"},\n",
    "    {\"name\": \"We Two\", \"imdb\": 7.2, \"category\": \"Romance\"}\n",
    "]\n",
    "\n",
    "def filter_movies_above_5_5(movies_list):\n",
    "    return [movie for movie in movies_list if is_movie_above_5_5(movie)]\n",
    "\n",
    "#EXAMPLE\n",
    "high_rated = filter_movies_above_5_5(movies)\n",
    "print(\"Movies with IMDB score above 5.5:\")\n",
    "for m in high_rated:\n",
    "        print(f\"   {m['name']} - {m['imdb']}\")"
   ]
  },
  {
   "cell_type": "markdown",
   "metadata": {},
   "source": [
    "#TASK3\n",
    "\n",
    "Write a function that takes a category name and returns just those movies under that category."
   ]
  },
  {
   "cell_type": "code",
   "execution_count": 17,
   "metadata": {},
   "outputs": [
    {
     "name": "stdout",
     "output_type": "stream",
     "text": [
      "Romance movies:\n",
      "   The Choice - 6.2\n",
      "   Colonia - 7.4\n",
      "   Love - 6.0\n",
      "   Bride Wars - 5.4\n",
      "   We Two - 7.2\n"
     ]
    }
   ],
   "source": [
    "# Dictionary of movies\n",
    "movies = [\n",
    "    {\"name\": \"Usual Suspects\", \"imdb\": 7.0, \"category\": \"Thriller\"},\n",
    "    {\"name\": \"Hitman\", \"imdb\": 6.3, \"category\": \"Action\"},\n",
    "    {\"name\": \"Dark Knight\", \"imdb\": 9.0, \"category\": \"Adventure\"},\n",
    "    {\"name\": \"The Help\", \"imdb\": 8.0, \"category\": \"Drama\"},\n",
    "    {\"name\": \"The Choice\", \"imdb\": 6.2, \"category\": \"Romance\"},\n",
    "    {\"name\": \"Colonia\", \"imdb\": 7.4, \"category\": \"Romance\"},\n",
    "    {\"name\": \"Love\", \"imdb\": 6.0, \"category\": \"Romance\"},\n",
    "    {\"name\": \"Bride Wars\", \"imdb\": 5.4, \"category\": \"Romance\"},\n",
    "    {\"name\": \"AlphaJet\", \"imdb\": 3.2, \"category\": \"War\"},\n",
    "    {\"name\": \"Ringing Crime\", \"imdb\": 4.0, \"category\": \"Crime\"},\n",
    "    {\"name\": \"Joking muck\", \"imdb\": 7.2, \"category\": \"Comedy\"},\n",
    "    {\"name\": \"What is the name\", \"imdb\": 9.2, \"category\": \"Suspense\"},\n",
    "    {\"name\": \"Detective\", \"imdb\": 7.0, \"category\": \"Suspense\"},\n",
    "    {\"name\": \"Exam\", \"imdb\": 4.2, \"category\": \"Thriller\"},\n",
    "    {\"name\": \"We Two\", \"imdb\": 7.2, \"category\": \"Romance\"}\n",
    "]\n",
    "\n",
    "def get_movies_by_category(movies_list, category):\n",
    "    return [movie for movie in movies_list if movie.get(\"category\", \"\").lower() == category.lower()]\n",
    "\n",
    "#EXAMPLE\n",
    "romance_movies = get_movies_by_category(movies, \"Romance\")\n",
    "print(\"Romance movies:\")\n",
    "for m in romance_movies:\n",
    "    print(f\"   {m['name']} - {m['imdb']}\")"
   ]
  },
  {
   "cell_type": "markdown",
   "metadata": {},
   "source": [
    "#TASk4\n",
    "\n",
    "Write a function that takes a list of movies and computes the average IMDB score."
   ]
  },
  {
   "cell_type": "code",
   "execution_count": 18,
   "metadata": {},
   "outputs": [
    {
     "name": "stdout",
     "output_type": "stream",
     "text": [
      "Average IMDB score for all movies: 6.49\n"
     ]
    }
   ],
   "source": [
    "# Dictionary of movies\n",
    "movies = [\n",
    "    {\"name\": \"Usual Suspects\", \"imdb\": 7.0, \"category\": \"Thriller\"},\n",
    "    {\"name\": \"Hitman\", \"imdb\": 6.3, \"category\": \"Action\"},\n",
    "    {\"name\": \"Dark Knight\", \"imdb\": 9.0, \"category\": \"Adventure\"},\n",
    "    {\"name\": \"The Help\", \"imdb\": 8.0, \"category\": \"Drama\"},\n",
    "    {\"name\": \"The Choice\", \"imdb\": 6.2, \"category\": \"Romance\"},\n",
    "    {\"name\": \"Colonia\", \"imdb\": 7.4, \"category\": \"Romance\"},\n",
    "    {\"name\": \"Love\", \"imdb\": 6.0, \"category\": \"Romance\"},\n",
    "    {\"name\": \"Bride Wars\", \"imdb\": 5.4, \"category\": \"Romance\"},\n",
    "    {\"name\": \"AlphaJet\", \"imdb\": 3.2, \"category\": \"War\"},\n",
    "    {\"name\": \"Ringing Crime\", \"imdb\": 4.0, \"category\": \"Crime\"},\n",
    "    {\"name\": \"Joking muck\", \"imdb\": 7.2, \"category\": \"Comedy\"},\n",
    "    {\"name\": \"What is the name\", \"imdb\": 9.2, \"category\": \"Suspense\"},\n",
    "    {\"name\": \"Detective\", \"imdb\": 7.0, \"category\": \"Suspense\"},\n",
    "    {\"name\": \"Exam\", \"imdb\": 4.2, \"category\": \"Thriller\"},\n",
    "    {\"name\": \"We Two\", \"imdb\": 7.2, \"category\": \"Romance\"}\n",
    "]\n",
    "\n",
    "def average_imdb_score(movies_list):\n",
    "    if not movies_list:\n",
    "        return 0\n",
    "    total = sum(movie.get(\"imdb\", 0) for movie in movies_list)\n",
    "    return total / len(movies_list)\n",
    "\n",
    "#EXAMPLE\n",
    "avg_score = average_imdb_score(movies)\n",
    "print(f\"Average IMDB score for all movies: {avg_score:.2f}\")"
   ]
  },
  {
   "cell_type": "markdown",
   "metadata": {},
   "source": [
    "#TASK5\n",
    "\n",
    "Write a function that takes a category and computes the average IMDB score.# Dictionary of movies"
   ]
  },
  {
   "cell_type": "code",
   "execution_count": 19,
   "metadata": {},
   "outputs": [
    {
     "name": "stdout",
     "output_type": "stream",
     "text": [
      "Average IMDB score for Suspense movies: 8.10\n"
     ]
    }
   ],
   "source": [
    "# Dictionary of movies\n",
    "movies = [\n",
    "    {\"name\": \"Usual Suspects\", \"imdb\": 7.0, \"category\": \"Thriller\"},\n",
    "    {\"name\": \"Hitman\", \"imdb\": 6.3, \"category\": \"Action\"},\n",
    "    {\"name\": \"Dark Knight\", \"imdb\": 9.0, \"category\": \"Adventure\"},\n",
    "    {\"name\": \"The Help\", \"imdb\": 8.0, \"category\": \"Drama\"},\n",
    "    {\"name\": \"The Choice\", \"imdb\": 6.2, \"category\": \"Romance\"},\n",
    "    {\"name\": \"Colonia\", \"imdb\": 7.4, \"category\": \"Romance\"},\n",
    "    {\"name\": \"Love\", \"imdb\": 6.0, \"category\": \"Romance\"},\n",
    "    {\"name\": \"Bride Wars\", \"imdb\": 5.4, \"category\": \"Romance\"},\n",
    "    {\"name\": \"AlphaJet\", \"imdb\": 3.2, \"category\": \"War\"},\n",
    "    {\"name\": \"Ringing Crime\", \"imdb\": 4.0, \"category\": \"Crime\"},\n",
    "    {\"name\": \"Joking muck\", \"imdb\": 7.2, \"category\": \"Comedy\"},\n",
    "    {\"name\": \"What is the name\", \"imdb\": 9.2, \"category\": \"Suspense\"},\n",
    "    {\"name\": \"Detective\", \"imdb\": 7.0, \"category\": \"Suspense\"},\n",
    "    {\"name\": \"Exam\", \"imdb\": 4.2, \"category\": \"Thriller\"},\n",
    "    {\"name\": \"We Two\", \"imdb\": 7.2, \"category\": \"Romance\"}\n",
    "]\n",
    "\n",
    "def average_imdb_score_by_category(movies_list, category):\n",
    "    category_movies = get_movies_by_category(movies_list, category)\n",
    "    return average_imdb_score(category_movies)\n",
    "\n",
    "#EXAMPLE\n",
    "avg_suspense = average_imdb_score_by_category(movies, \"Suspense\")\n",
    "print(f\"Average IMDB score for Suspense movies: {avg_suspense:.2f}\")"
   ]
  }
 ],
 "metadata": {
  "kernelspec": {
   "display_name": "Python 3",
   "language": "python",
   "name": "python3"
  },
  "language_info": {
   "codemirror_mode": {
    "name": "ipython",
    "version": 3
   },
   "file_extension": ".py",
   "mimetype": "text/x-python",
   "name": "python",
   "nbconvert_exporter": "python",
   "pygments_lexer": "ipython3",
   "version": "3.13.1"
  }
 },
 "nbformat": 4,
 "nbformat_minor": 2
}
