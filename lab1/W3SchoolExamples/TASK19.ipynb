{
 "cells": [
  {
   "cell_type": "markdown",
   "metadata": {},
   "source": [
    "<<Python - Escape Characters Topic 10>>"
   ]
  },
  {
   "cell_type": "markdown",
   "metadata": {},
   "source": [
    "#Escape Character\n",
    "\n",
    "To insert characters that are illegal in a string, use an escape character.\n",
    "\n",
    "An escape character is a backslash \\ followed by the character you want to insert.\n",
    "\n",
    "An example of an illegal character is a double quote inside a string that is surrounded by double quotes:"
   ]
  },
  {
   "cell_type": "markdown",
   "metadata": {},
   "source": [
    "#Example\n",
    "\n",
    "You will get an error if you use double quotes inside a string that is surrounded by double quotes:"
   ]
  },
  {
   "cell_type": "code",
   "execution_count": 11,
   "metadata": {},
   "outputs": [
    {
     "ename": "SyntaxError",
     "evalue": "invalid syntax (2647105941.py, line 1)",
     "output_type": "error",
     "traceback": [
      "\u001b[1;36m  Cell \u001b[1;32mIn[11], line 1\u001b[1;36m\u001b[0m\n\u001b[1;33m    txt = \"We are the so-called \"Vikings\" from the north.\"\u001b[0m\n\u001b[1;37m                                 ^\u001b[0m\n\u001b[1;31mSyntaxError\u001b[0m\u001b[1;31m:\u001b[0m invalid syntax\n"
     ]
    }
   ],
   "source": [
    "txt = \"We are the so-called \"Vikings\" from the north.\"\n",
    "\n",
    "#To fix this problem, use the escape character \\\":"
   ]
  },
  {
   "cell_type": "markdown",
   "metadata": {},
   "source": [
    "#Example\n",
    "\n",
    "The escape character allows you to use double quotes when you normally would not be allowed:"
   ]
  },
  {
   "cell_type": "code",
   "execution_count": 3,
   "metadata": {},
   "outputs": [],
   "source": [
    "txt = \"We are the so-called \\\"Vikings\\\" from the north.\""
   ]
  },
  {
   "cell_type": "markdown",
   "metadata": {},
   "source": [
    "#Escape Characters\n",
    "\n",
    "Other escape characters used in Python:\n",
    "\n",
    "\n",
    "<\\'\tSingle Quote>\n",
    "\n",
    "<\\\\\tBackslash>\n",
    "\n",
    "<\\n\tNew Line>\n",
    "\n",
    "<\\r\tCarriage Return>\n",
    "\n",
    "<\\t\tTab>\n",
    "\n",
    "<\\b\tBackspace>\n",
    "\n",
    "<\\f\tForm Feed>\n",
    "\n",
    "<\\ooo\tOctal value>\n",
    "\n",
    "<\\xhh\tHex value>"
   ]
  }
 ],
 "metadata": {
  "kernelspec": {
   "display_name": "Python 3",
   "language": "python",
   "name": "python3"
  },
  "language_info": {
   "codemirror_mode": {
    "name": "ipython",
    "version": 3
   },
   "file_extension": ".py",
   "mimetype": "text/x-python",
   "name": "python",
   "nbconvert_exporter": "python",
   "pygments_lexer": "ipython3",
   "version": "3.13.1"
  }
 },
 "nbformat": 4,
 "nbformat_minor": 2
}
