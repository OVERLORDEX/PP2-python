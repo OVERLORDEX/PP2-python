{
 "cells": [
  {
   "cell_type": "markdown",
   "id": "3934a66b",
   "metadata": {},
   "source": [
    "#TASK 1\n",
    "\n",
    "Create user and user_score tables"
   ]
  },
  {
   "cell_type": "code",
   "execution_count": 13,
   "id": "d5e9217f",
   "metadata": {},
   "outputs": [],
   "source": [
    "import psycopg2\n",
    "\n",
    "def connect_db():\n",
    "    conn = psycopg2.connect(\n",
    "        host=\"ep-divine-fog-a55emvje-pooler.us-east-2.aws.neon.tech\",\n",
    "        dbname=\"neondb\",\n",
    "        user=\"neondb_owner\",\n",
    "        password=\"npg_Um02TyoiHXhw\"\n",
    "    )\n",
    "    return conn\n",
    "\n",
    "def create_tables():\n",
    "    conn = connect_db()\n",
    "    cur = conn.cursor()\n",
    "\n",
    "    cur.execute(\"\"\"\n",
    "    CREATE TABLE IF NOT EXISTS \"user\" (\n",
    "        id SERIAL PRIMARY KEY,\n",
    "        username VARCHAR(50) NOT NULL UNIQUE\n",
    "    );\n",
    "    \"\"\")\n",
    "\n",
    "    cur.execute(\"\"\"\n",
    "    CREATE TABLE IF NOT EXISTS \"user_score\" (\n",
    "        id SERIAL PRIMARY KEY,\n",
    "        user_id INT NOT NULL,\n",
    "        level INT NOT NULL,\n",
    "        record INT NOT NULL,\n",
    "        FOREIGN KEY (user_id) REFERENCES \"user\"(id)\n",
    "    );\n",
    "    \"\"\")\n",
    "\n",
    "    # Очистка таблицы user_score и сброс автоинкрементных значений\n",
    "    cur.execute(\"TRUNCATE TABLE user_score RESTART IDENTITY;\")\n",
    "\n",
    "    # Проверка наличия столбцов и добавление их при необходимости\n",
    "    cur.execute(\"\"\"\n",
    "    DO $$ \n",
    "    BEGIN\n",
    "        IF NOT EXISTS (SELECT 1 FROM information_schema.columns WHERE table_name = 'user_score' AND column_name = 'user_id') THEN\n",
    "            ALTER TABLE user_score ADD COLUMN user_id INT NOT NULL;\n",
    "        END IF;\n",
    "        IF NOT EXISTS (SELECT 1 FROM information_schema.columns WHERE table_name = 'user_score' AND column_name = 'level') THEN\n",
    "            ALTER TABLE user_score ADD COLUMN level INT NOT NULL;\n",
    "        END IF;\n",
    "        IF NOT EXISTS (SELECT 1 FROM information_schema.columns WHERE table_name = 'user_score' AND column_name = 'record') THEN\n",
    "            ALTER TABLE user_score ADD COLUMN record INT NOT NULL;\n",
    "        END IF;\n",
    "    END $$;\n",
    "    \"\"\")\n",
    "\n",
    "    conn.commit()\n",
    "    cur.close()\n",
    "    conn.close()\n",
    "\n",
    "create_tables()\n"
   ]
  }
 ],
 "metadata": {
  "kernelspec": {
   "display_name": "Python 3",
   "language": "python",
   "name": "python3"
  },
  "language_info": {
   "codemirror_mode": {
    "name": "ipython",
    "version": 3
   },
   "file_extension": ".py",
   "mimetype": "text/x-python",
   "name": "python",
   "nbconvert_exporter": "python",
   "pygments_lexer": "ipython3",
   "version": "3.13.1"
  }
 },
 "nbformat": 4,
 "nbformat_minor": 5
}
