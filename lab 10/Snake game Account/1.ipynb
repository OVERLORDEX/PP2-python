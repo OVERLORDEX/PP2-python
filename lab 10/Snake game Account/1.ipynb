{
 "cells": [
  {
   "cell_type": "code",
   "execution_count": 1,
   "id": "5fc2999e",
   "metadata": {},
   "outputs": [],
   "source": [
    "import psycopg2\n",
    "\n",
    "# Подключение к БД\n",
    "conn = psycopg2.connect(\n",
    "    host=\"ep-divine-fog-a55emvje-pooler.us-east-2.aws.neon.tech\",\n",
    "    dbname=\"neondb\",\n",
    "    user=\"neondb_owner\",\n",
    "    password=\"npg_Um02TyoiHXhw\"\n",
    ")\n",
    "\n",
    "cur = conn.cursor()\n",
    "\n",
    "# Удаление столбцов level и speed из таблицы user\n",
    "cur.execute('''\n",
    "    ALTER TABLE \"user\" \n",
    "    DROP COLUMN level, \n",
    "    DROP COLUMN speed;\n",
    "''')\n",
    "\n",
    "# Подтверждаем изменения\n",
    "conn.commit()\n",
    "\n",
    "# Закрытие соединения\n",
    "cur.close()\n",
    "conn.close()\n"
   ]
  }
 ],
 "metadata": {
  "kernelspec": {
   "display_name": "Python 3",
   "language": "python",
   "name": "python3"
  },
  "language_info": {
   "codemirror_mode": {
    "name": "ipython",
    "version": 3
   },
   "file_extension": ".py",
   "mimetype": "text/x-python",
   "name": "python",
   "nbconvert_exporter": "python",
   "pygments_lexer": "ipython3",
   "version": "3.13.1"
  }
 },
 "nbformat": 4,
 "nbformat_minor": 5
}
