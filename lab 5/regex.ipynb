{
 "cells": [
  {
   "cell_type": "markdown",
   "metadata": {},
   "source": [
    "<<Python RegEx exercises Topic 1>>"
   ]
  },
  {
   "cell_type": "markdown",
   "metadata": {},
   "source": [
    "#TASK1 \n",
    "\n",
    "Write a Python program that matches a string that has an 'a' followed by zero or more 'b''s."
   ]
  },
  {
   "cell_type": "code",
   "execution_count": null,
   "metadata": {},
   "outputs": [
    {
     "name": "stdout",
     "output_type": "stream",
     "text": [
      "True\n",
      "True\n",
      "True\n",
      "False\n",
      "False\n"
     ]
    }
   ],
   "source": [
    "import re\n",
    "\n",
    "def match_a_b(s):\n",
    "    return bool(re.fullmatch(r\"ab*\", s))\n",
    "\n",
    "print(match_a_b(\"a\"))     \n",
    "print(match_a_b(\"ab\"))     \n",
    "print(match_a_b(\"abb\"))    \n",
    "print(match_a_b(\"b\"))      \n",
    "print(match_a_b(\"ac\"))"
   ]
  },
  {
   "cell_type": "markdown",
   "metadata": {},
   "source": [
    "#TASK2\n",
    "\n",
    "Write a Python program that matches a string that has an 'a' followed by two to three 'b'."
   ]
  },
  {
   "cell_type": "code",
   "execution_count": 2,
   "metadata": {},
   "outputs": [
    {
     "name": "stdout",
     "output_type": "stream",
     "text": [
      "True\n",
      "True\n",
      "False\n",
      "False\n"
     ]
    }
   ],
   "source": [
    "import re\n",
    "\n",
    "def match_a_bbb(s):\n",
    "    return bool(re.fullmatch(r\"ab{2,3}\", s))\n",
    "\n",
    "print(match_a_bbb(\"abb\"))   \n",
    "print(match_a_bbb(\"abbb\"))  \n",
    "print(match_a_bbb(\"a\"))    \n",
    "print(match_a_bbb(\"abbbb\")) "
   ]
  },
  {
   "cell_type": "markdown",
   "metadata": {},
   "source": [
    "#TASK 3\n",
    "\n",
    "Write a Python program to find sequences of lowercase letters joined with a underscore."
   ]
  },
  {
   "cell_type": "code",
   "execution_count": 4,
   "metadata": {},
   "outputs": [
    {
     "name": "stdout",
     "output_type": "stream",
     "text": [
      "['hello_world', 'test_example', 'abc_def']\n"
     ]
    }
   ],
   "source": [
    "import re\n",
    "\n",
    "def find_lowercase_underscore(s):\n",
    "    return re.findall(r\"\\b[a-z]+_[a-z]+\\b\", s)\n",
    "\n",
    "print(find_lowercase_underscore(\"hello_world test_example abc_def\"))"
   ]
  },
  {
   "cell_type": "markdown",
   "metadata": {},
   "source": [
    "#TASK 4\n",
    "\n",
    "Write a Python program to find the sequences of one upper case letter followed by lower case letters."
   ]
  },
  {
   "cell_type": "code",
   "execution_count": 6,
   "metadata": {},
   "outputs": [
    {
     "name": "stdout",
     "output_type": "stream",
     "text": [
      "['Hello', 'World', 'Test', 'Abc', 'Def']\n"
     ]
    }
   ],
   "source": [
    "import re\n",
    "\n",
    "def find_upper_followed_by_lower(s):\n",
    "    return re.findall(r\"[A-Z][a-z]+\", s)\n",
    "\n",
    "print(find_upper_followed_by_lower(\"Hello World Test ABC XYZ AbcDef\"))"
   ]
  },
  {
   "cell_type": "markdown",
   "metadata": {},
   "source": [
    "#TASK 5\n",
    "\n",
    "Write a Python program that matches a string that has an 'a' followed by anything, ending in 'b'."
   ]
  },
  {
   "cell_type": "code",
   "execution_count": 7,
   "metadata": {},
   "outputs": [
    {
     "name": "stdout",
     "output_type": "stream",
     "text": [
      "True\n",
      "True\n",
      "True\n",
      "False\n",
      "False\n"
     ]
    }
   ],
   "source": [
    "import re\n",
    "\n",
    "def match_a_anything_b(s):\n",
    "    return bool(re.fullmatch(r\"a.*b\", s))\n",
    "\n",
    "print(match_a_anything_b(\"a123b\")) \n",
    "print(match_a_anything_b(\"ab\"))    \n",
    "print(match_a_anything_b(\"axb\"))    \n",
    "print(match_a_anything_b(\"a\"))      \n",
    "print(match_a_anything_b(\"b\"))      "
   ]
  },
  {
   "cell_type": "markdown",
   "metadata": {},
   "source": [
    "#TASK 6\n",
    "\n",
    "Write a Python program to replace all occurrences of space, comma, or dot with a colon."
   ]
  },
  {
   "cell_type": "code",
   "execution_count": 8,
   "metadata": {},
   "outputs": [
    {
     "name": "stdout",
     "output_type": "stream",
     "text": [
      "Hello::world::Python:regex!\n"
     ]
    }
   ],
   "source": [
    "import re\n",
    "\n",
    "def replace_space_comma_dot(s):\n",
    "    return re.sub(r\"[ ,.]\", \":\", s)\n",
    "\n",
    "print(replace_space_comma_dot(\"Hello, world. Python regex!\"))"
   ]
  },
  {
   "cell_type": "markdown",
   "metadata": {},
   "source": [
    "#TASK 7\n",
    "\n",
    "Write a python program to convert snake case string to camel case string."
   ]
  },
  {
   "cell_type": "code",
   "execution_count": 9,
   "metadata": {},
   "outputs": [
    {
     "name": "stdout",
     "output_type": "stream",
     "text": [
      "helloWorldExample\n"
     ]
    }
   ],
   "source": [
    "def snake_to_camel(s):\n",
    "    return ''.join(word.capitalize() if i else word for i, word in enumerate(s.split('_')))\n",
    "\n",
    "print(snake_to_camel(\"hello_world_example\"))"
   ]
  },
  {
   "cell_type": "markdown",
   "metadata": {},
   "source": [
    "#TASK 8\n",
    "\n",
    "Write a Python program to split a string at uppercase letters."
   ]
  },
  {
   "cell_type": "code",
   "execution_count": 10,
   "metadata": {},
   "outputs": [
    {
     "name": "stdout",
     "output_type": "stream",
     "text": [
      "['', 'Hello', 'World', 'Example']\n"
     ]
    }
   ],
   "source": [
    "import re\n",
    "\n",
    "def split_at_uppercase(s):\n",
    "    return re.split(r\"(?=[A-Z])\", s)\n",
    "\n",
    "print(split_at_uppercase(\"HelloWorldExample\"))"
   ]
  },
  {
   "cell_type": "markdown",
   "metadata": {},
   "source": [
    "#TASK 9\n",
    "\n",
    "Write a Python program to insert spaces between words starting with capital letters."
   ]
  },
  {
   "cell_type": "code",
   "execution_count": 11,
   "metadata": {},
   "outputs": [
    {
     "name": "stdout",
     "output_type": "stream",
     "text": [
      "Hello World Example\n"
     ]
    }
   ],
   "source": [
    "import re\n",
    "\n",
    "def insert_spaces_between_capitals(s):\n",
    "    return re.sub(r\"(?<!^)(?=[A-Z])\", \" \", s)\n",
    "\n",
    "print(insert_spaces_between_capitals(\"HelloWorldExample\"))"
   ]
  },
  {
   "cell_type": "markdown",
   "metadata": {},
   "source": [
    "#TASK 10\n",
    "\n",
    "Write a Python program to convert a given camel case string to snake case."
   ]
  },
  {
   "cell_type": "code",
   "execution_count": 12,
   "metadata": {},
   "outputs": [
    {
     "name": "stdout",
     "output_type": "stream",
     "text": [
      "hello_world_example\n"
     ]
    }
   ],
   "source": [
    "import re\n",
    "\n",
    "def camel_to_snake(s):\n",
    "    return re.sub(r'(?<!^)(?=[A-Z])', '_', s).lower()\n",
    "\n",
    "print(camel_to_snake(\"helloWorldExample\"))"
   ]
  }
 ],
 "metadata": {
  "kernelspec": {
   "display_name": "Python 3",
   "language": "python",
   "name": "python3"
  },
  "language_info": {
   "codemirror_mode": {
    "name": "ipython",
    "version": 3
   },
   "file_extension": ".py",
   "mimetype": "text/x-python",
   "name": "python",
   "nbconvert_exporter": "python",
   "pygments_lexer": "ipython3",
   "version": "3.13.1"
  }
 },
 "nbformat": 4,
 "nbformat_minor": 2
}
