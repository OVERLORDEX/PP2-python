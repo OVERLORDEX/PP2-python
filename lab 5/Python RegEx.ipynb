{
 "cells": [
  {
   "cell_type": "markdown",
   "metadata": {},
   "source": [
    "<<Python RegEx TOPIC 2>>\n",
    "\n",
    "You can practice from Lecture example of receipt parsing using row.txt file in this folder."
   ]
  },
  {
   "cell_type": "markdown",
   "metadata": {},
   "source": [
    "#TASK 1\n",
    "\n",
    "Extract all purchased items"
   ]
  },
  {
   "cell_type": "code",
   "execution_count": 1,
   "metadata": {},
   "outputs": [
    {
     "name": "stdout",
     "output_type": "stream",
     "text": [
      "Натрия хлорид 0,9%, 200 мл, фл\n",
      "Борный спирт 3%, 20 мл, фл.\n",
      "Шприц 2 мл, 3-х комп. (Bioject)\n",
      "Система для инфузии Vogt Medical\n",
      "Naturella прокладки Классик макси №8\n",
      "AURA Ватные диски №150\n",
      "Чистая линия скраб мягкий 50 мл\n",
      "Чистая линия  скраб очищающийабрикос 50 мл\n",
      "Чистая линия скраб мягкий 50 мл\n",
      "Carefree салфетки Алоэвоздухопроницаемые №20\n",
      "Pro Series Шампунь яркий цвет 500мл\n",
      "Pro Series бальзам-ополаскивательдля длител ухода за окрашеннымиволосами Яркий цвет 500мл\n",
      "Clear шампунь Актив спорт 2в1мужской  400 мл\n",
      "Bio World (HYDRO THERAPY)Мицеллярная вода 5в1, 445мл\n",
      "Bio World (HYDRO THERAPY) Гель-муссдля умывания с гиалуроновойкислотой, 250мл\n",
      "[RX]-Натрия хлорид 0,9%, 100 мл, фл.\n",
      "[RX]-Дисоль р-р 400 мл, фл.\n",
      "Тагансорбент с иономи серебра №30,пор.\n",
      "[RX]-Церукал 2%, 2 мл, №10, амп.\n",
      "[RX]-Андазол 200 мг, №40, табл.\n"
     ]
    }
   ],
   "source": [
    "import re\n",
    "\n",
    "def extract_items(text):\n",
    "    pattern = r\"\\d+\\.\\s+([^\\n]+)\"\n",
    "    return re.findall(pattern, text)\n",
    "\n",
    "with open(\"row.txt\", \"r\", encoding=\"utf-8\") as file:\n",
    "    content = file.read()\n",
    "\n",
    "items = extract_items(content)\n",
    "for item in items:\n",
    "    print(item)"
   ]
  },
  {
   "cell_type": "markdown",
   "metadata": {},
   "source": [
    "#TASK 2\n",
    "\n",
    "Extract all prices"
   ]
  },
  {
   "cell_type": "code",
   "execution_count": 2,
   "metadata": {},
   "outputs": [
    {
     "name": "stdout",
     "output_type": "stream",
     "text": [
      "['2,00', '154,00', '308,00', '308,00', '1,00', '51,00', '51,00', '51,00', '2,00', '16,00', '32,00', '32,00', '2,00', '60,00', '120,00', '120,00', '1,00', '310,00', '310,00', '310,00', '1,00', '461,00', '461,00', '461,00', '1,00', '381,00', '381,00', '381,00', '1,00', '386,00', '386,00', '386,00', '1,00', '381,00', '381,00', '381,00', '1,00', '414,00', '414,00', '414,00', '1,00', '841,00', '841,00', '841,00', '1,00', '841,00', '841,00', '841,00', '1,00', '1 200,00', '1 200,00', '1 200,00', '1,00', '1 152,00', '1 152,00', '1 152,00', '1,00', '1 152,00', '1 152,00', '1 152,00', '1,00', '168,00', '168,00', '168,00', '1,00', '163,00', '163,00', '163,00', '1,00', '1 526,00', '1 526,00', '1 526,00', '2,00', '396,00', '792,00', '792,00', '1,00', '7 330,00', '7 330,00', '7 330,00', '18 009,00', '18 009,00', '0,00']\n"
     ]
    }
   ],
   "source": [
    "def extract_prices(text):\n",
    "    pattern = r\"\\d{1,3}(?:\\s?\\d{3})*,\\d{2}\"\n",
    "    return re.findall(pattern, text)\n",
    "\n",
    "prices = extract_prices(content)\n",
    "print(prices)"
   ]
  },
  {
   "cell_type": "markdown",
   "metadata": {},
   "source": [
    "#TASK 3\n",
    "\n",
    "Extract total amount paid"
   ]
  },
  {
   "cell_type": "code",
   "execution_count": 3,
   "metadata": {},
   "outputs": [
    {
     "name": "stdout",
     "output_type": "stream",
     "text": [
      "Total Amount Paid: 18 009,00\n",
      "\n"
     ]
    }
   ],
   "source": [
    "def extract_total(text):\n",
    "    pattern = r\"ИТОГО:\\s*([\\d\\s,]+)\"\n",
    "    match = re.search(pattern, text)\n",
    "    return match.group(1) if match else None\n",
    "\n",
    "total = extract_total(content)\n",
    "print(\"Total Amount Paid:\", total)"
   ]
  },
  {
   "cell_type": "markdown",
   "metadata": {},
   "source": [
    "#TASK 4\n",
    "\n",
    "Extract only prescription ([RX]) items"
   ]
  },
  {
   "cell_type": "code",
   "execution_count": 4,
   "metadata": {},
   "outputs": [
    {
     "name": "stdout",
     "output_type": "stream",
     "text": [
      "['Натрия хлорид 0,9%, 100 мл, фл.', 'Дисоль р-р 400 мл, фл.', 'Церукал 2%, 2 мл, №10, амп.', 'Андазол 200 мг, №40, табл.']\n"
     ]
    }
   ],
   "source": [
    "def extract_rx_items(text):\n",
    "    pattern = r\"\\[RX\\]-([^\\n]+)\"\n",
    "    return re.findall(pattern, text)\n",
    "\n",
    "rx_items = extract_rx_items(content)\n",
    "print(rx_items)"
   ]
  }
 ],
 "metadata": {
  "kernelspec": {
   "display_name": "Python 3",
   "language": "python",
   "name": "python3"
  },
  "language_info": {
   "codemirror_mode": {
    "name": "ipython",
    "version": 3
   },
   "file_extension": ".py",
   "mimetype": "text/x-python",
   "name": "python",
   "nbconvert_exporter": "python",
   "pygments_lexer": "ipython3",
   "version": "3.13.1"
  }
 },
 "nbformat": 4,
 "nbformat_minor": 2
}
