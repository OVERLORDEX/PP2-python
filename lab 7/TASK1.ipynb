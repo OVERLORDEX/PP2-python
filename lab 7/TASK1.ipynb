{
 "cells": [
  {
   "cell_type": "code",
   "execution_count": 4,
   "metadata": {},
   "outputs": [],
   "source": [
    "import pygame\n",
    "import time\n",
    "from pygame.locals import *\n",
    "\n",
    "pygame.init()\n",
    "\n",
    "WIDTH, HEIGHT = 600, 600\n",
    "CENTER = (WIDTH // 2, HEIGHT // 2)\n",
    "screen = pygame.display.set_mode((WIDTH, HEIGHT))\n",
    "pygame.display.set_caption(\"Mickey Clock\")\n",
    "\n",
    "background = pygame.image.load(\"mickeyclock.png\")\n",
    "background = pygame.transform.scale(background, (WIDTH, HEIGHT))\n",
    "\n",
    "right_hand = pygame.image.load(\"rightarm.png\")\n",
    "left_hand = pygame.image.load(\"leftarm.png\")\n",
    "\n",
    "right_hand = pygame.transform.scale(right_hand, (right_hand.get_width() // 2, right_hand.get_height() // 2))\n",
    "left_hand = pygame.transform.scale(left_hand, (left_hand.get_width() // 2, left_hand.get_height() // 2))\n",
    "\n",
    "clock = pygame.time.Clock()\n",
    "\n",
    "running = True\n",
    "while running:\n",
    "    screen.fill((255, 255, 255))\n",
    "    screen.blit(background, (0, 0))\n",
    "    \n",
    "    current_time = time.localtime()\n",
    "    minutes = current_time.tm_min\n",
    "    seconds = current_time.tm_sec\n",
    "    \n",
    "    min_angle = -(minutes * 6) + 90\n",
    "    sec_angle = -(seconds * 6) + 90\n",
    "    \n",
    "    min_rotated = pygame.transform.rotate(right_hand, min_angle)\n",
    "    sec_rotated = pygame.transform.rotate(left_hand, sec_angle)\n",
    "    \n",
    "    min_rect = min_rotated.get_rect(center=CENTER)\n",
    "    sec_rect = sec_rotated.get_rect(center=CENTER)\n",
    "    \n",
    "    screen.blit(min_rotated, min_rect)\n",
    "    screen.blit(sec_rotated, sec_rect)\n",
    "    \n",
    "    for event in pygame.event.get():\n",
    "        if event.type == QUIT:\n",
    "            running = False\n",
    "    \n",
    "    pygame.display.update()\n",
    "    clock.tick(30)\n",
    "\n",
    "pygame.quit()"
   ]
  }
 ],
 "metadata": {
  "kernelspec": {
   "display_name": "Python 3",
   "language": "python",
   "name": "python3"
  },
  "language_info": {
   "codemirror_mode": {
    "name": "ipython",
    "version": 3
   },
   "file_extension": ".py",
   "mimetype": "text/x-python",
   "name": "python",
   "nbconvert_exporter": "python",
   "pygments_lexer": "ipython3",
   "version": "3.13.1"
  }
 },
 "nbformat": 4,
 "nbformat_minor": 2
}
