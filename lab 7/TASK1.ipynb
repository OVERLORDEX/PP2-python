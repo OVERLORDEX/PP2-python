{
 "cells": [
  {
   "cell_type": "code",
   "execution_count": 10,
   "metadata": {},
   "outputs": [],
   "source": [
    "import pygame\n",
    "import time\n",
    "from pygame.locals import *\n",
    "\n",
    "pygame.init()\n",
    "\n",
    "WIDTH, HEIGHT = 600, 600\n",
    "CENTER = (WIDTH // 2, HEIGHT // 2)\n",
    "screen = pygame.display.set_mode((WIDTH, HEIGHT))\n",
    "pygame.display.set_caption(\"Mickey Clock\")\n",
    "\n",
    "background = pygame.image.load(\"mickeyclock.jpeg\")\n",
    "background = pygame.transform.scale(background, (WIDTH, HEIGHT))\n",
    "\n",
    "def draw_hand(length, width, color):\n",
    "    hand = pygame.Surface((length, length), pygame.SRCALPHA)\n",
    "    pygame.draw.line(hand, color, (0, length // 2), (length - 10, length // 2), width)\n",
    "    pygame.draw.polygon(hand, color, [(length - 10, length // 2 - width), (length, length // 2), (length - 10, length // 2 + width)])\n",
    "    return hand\n",
    "\n",
    "hand_min = draw_hand(120, 8, (0, 0, 0))\n",
    "hand_sec = draw_hand(140, 4, (255, 0, 0))\n",
    "\n",
    "clock = pygame.time.Clock()\n",
    "\n",
    "running = True\n",
    "while running:\n",
    "    screen.fill((255, 255, 255))\n",
    "    screen.blit(background, (0, 0))\n",
    "    \n",
    "    current_time = time.localtime()\n",
    "    minutes = current_time.tm_min\n",
    "    seconds = current_time.tm_sec\n",
    "    \n",
    "    min_angle = -(minutes * 6) + 90\n",
    "    sec_angle = -(seconds * 6) + 90\n",
    "    \n",
    "    min_rotated = pygame.transform.rotate(hand_min, min_angle)\n",
    "    sec_rotated = pygame.transform.rotate(hand_sec, sec_angle)\n",
    "    \n",
    "    min_rect = min_rotated.get_rect(center=CENTER)\n",
    "    sec_rect = sec_rotated.get_rect(center=CENTER)\n",
    "    \n",
    "    screen.blit(min_rotated, min_rect)\n",
    "    screen.blit(sec_rotated, sec_rect)\n",
    "    \n",
    "    for event in pygame.event.get():\n",
    "        if event.type == QUIT:\n",
    "            running = False\n",
    "    \n",
    "    pygame.display.update()\n",
    "    clock.tick(30)\n",
    "\n",
    "pygame.quit()"
   ]
  }
 ],
 "metadata": {
  "kernelspec": {
   "display_name": "Python 3",
   "language": "python",
   "name": "python3"
  },
  "language_info": {
   "codemirror_mode": {
    "name": "ipython",
    "version": 3
   },
   "file_extension": ".py",
   "mimetype": "text/x-python",
   "name": "python",
   "nbconvert_exporter": "python",
   "pygments_lexer": "ipython3",
   "version": "3.13.1"
  }
 },
 "nbformat": 4,
 "nbformat_minor": 2
}
