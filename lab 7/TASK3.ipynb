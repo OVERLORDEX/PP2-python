{
 "cells": [
  {
   "cell_type": "code",
   "execution_count": 1,
   "metadata": {},
   "outputs": [
    {
     "name": "stdout",
     "output_type": "stream",
     "text": [
      "pygame 2.6.1 (SDL 2.28.4, Python 3.13.1)\n",
      "Hello from the pygame community. https://www.pygame.org/contribute.html\n"
     ]
    }
   ],
   "source": [
    "import pygame\n",
    "from pygame.locals import *\n",
    "\n",
    "pygame.init()\n",
    "\n",
    "WIDTH, HEIGHT = 600, 400\n",
    "BALL_RADIUS = 25\n",
    "STEP = 20\n",
    "\n",
    "screen = pygame.display.set_mode((WIDTH, HEIGHT))\n",
    "pygame.display.set_caption(\"Red Ball\")\n",
    "\n",
    "ball_x, ball_y = WIDTH // 2, HEIGHT // 2\n",
    "\n",
    "running = True\n",
    "while running:\n",
    "    screen.fill((255, 255, 255))\n",
    "    pygame.draw.circle(screen, (255, 0, 0), (ball_x, ball_y), BALL_RADIUS)\n",
    "    pygame.display.update()\n",
    "    \n",
    "    for event in pygame.event.get():\n",
    "        if event.type == QUIT:\n",
    "            running = False\n",
    "        elif event.type == KEYDOWN:\n",
    "            if event.key == K_UP and ball_y - BALL_RADIUS - STEP >= 0:\n",
    "                ball_y -= STEP\n",
    "            elif event.key == K_DOWN and ball_y + BALL_RADIUS + STEP <= HEIGHT:\n",
    "                ball_y += STEP\n",
    "            elif event.key == K_LEFT and ball_x - BALL_RADIUS - STEP >= 0:\n",
    "                ball_x -= STEP\n",
    "            elif event.key == K_RIGHT and ball_x + BALL_RADIUS + STEP <= WIDTH:\n",
    "                ball_x += STEP\n",
    "\n",
    "pygame.quit()"
   ]
  }
 ],
 "metadata": {
  "kernelspec": {
   "display_name": "Python 3",
   "language": "python",
   "name": "python3"
  },
  "language_info": {
   "codemirror_mode": {
    "name": "ipython",
    "version": 3
   },
   "file_extension": ".py",
   "mimetype": "text/x-python",
   "name": "python",
   "nbconvert_exporter": "python",
   "pygments_lexer": "ipython3",
   "version": "3.13.1"
  }
 },
 "nbformat": 4,
 "nbformat_minor": 2
}
