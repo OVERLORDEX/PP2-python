{
 "cells": [
  {
   "cell_type": "markdown",
   "metadata": {},
   "source": [
    "<<Python - List Methods Topic 3>>"
   ]
  },
  {
   "cell_type": "markdown",
   "metadata": {},
   "source": [
    "#List Methods\n",
    "\n",
    "Python has a set of built-in methods that you can use on lists.\n",
    "\n",
    "\n",
    "Method --> Description\n",
    "\n",
    "append() --> Adds an element at the end of the list\n",
    "\n",
    "clear() --> Removes all the elements from the list\n",
    "\n",
    "copy() --> Returns a copy of the list\n",
    "\n",
    "count() -->\tReturns the number of elements with the specified value\n",
    "\n",
    "extend() --> Add the elements of a list (or any iterable), to the end of the current list\n",
    "\n",
    "index() -->\tReturns the index of the first element with the specified value\n",
    "\n",
    "insert() --> Adds an element at the specified position\n",
    "\n",
    "pop() --> Removes the element at the specified position\n",
    "\n",
    "remove() --> Removes the item with the specified value\n",
    "\n",
    "reverse() --> Reverses the order of the list\n",
    "\n",
    "sort() --> Sorts the list"
   ]
  }
 ],
 "metadata": {
  "language_info": {
   "name": "python"
  }
 },
 "nbformat": 4,
 "nbformat_minor": 2
}
