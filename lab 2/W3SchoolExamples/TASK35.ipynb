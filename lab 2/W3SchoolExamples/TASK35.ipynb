{
 "cells": [
  {
   "cell_type": "markdown",
   "metadata": {},
   "source": [
    "<<Python Dictionary Methods Topic 6>>"
   ]
  },
  {
   "cell_type": "markdown",
   "metadata": {},
   "source": [
    "#Dictionary Methods\n",
    "\n",
    ">Python has a set of built-in methods that you can use on dictionaries.\n",
    "\n",
    "\n",
    "Method <--> Description\n",
    "-------------------------------------------------------------------------------------------------------------------------------------\n",
    "\n",
    "clear() --> Removes all the elements from the dictionary\n",
    "\n",
    "copy() --> Returns a copy of the dictionary\n",
    "\n",
    "fromkeys() --> Returns a dictionary with the specified keys and value\n",
    "\n",
    "get() --> Returns the value of the specified key\n",
    "\n",
    "items()\t--> Returns a list containing a tuple for each key value pair\n",
    "\n",
    "keys() --> Returns a list containing the dictionary's keys\n",
    "\n",
    "pop() --> Removes the element with the specified key\n",
    "\n",
    "popitem() --> Removes the last inserted key-value pair\n",
    "\n",
    "setdefault() --> Returns the value of the specified key. If the key does not exist: insert the key, with the specified value\n",
    "\n",
    "update() --> Updates the dictionary with the specified key-value pairs\n",
    "\n",
    "values() --> Returns a list of all the values in the dictionary"
   ]
  }
 ],
 "metadata": {
  "language_info": {
   "name": "python"
  }
 },
 "nbformat": 4,
 "nbformat_minor": 2
}
