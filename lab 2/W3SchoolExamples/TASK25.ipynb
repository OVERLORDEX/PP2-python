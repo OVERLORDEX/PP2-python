{
 "cells": [
  {
   "cell_type": "markdown",
   "metadata": {},
   "source": [
    "<<Python - Join Sets Topic 5>>"
   ]
  },
  {
   "cell_type": "markdown",
   "metadata": {},
   "source": [
    "#Join Sets\n",
    "\n",
    "There are several ways to join two or more sets in Python.\n",
    "\n",
    "The union() and update() methods joins all items from both sets.\n",
    "\n",
    "The intersection() method keeps ONLY the duplicates.\n",
    "\n",
    "The difference() method keeps the items from the first set that are not in the other set(s).\n",
    "\n",
    "The symmetric_difference() method keeps all items EXCEPT the duplicates."
   ]
  },
  {
   "cell_type": "markdown",
   "metadata": {},
   "source": [
    "#Union\n",
    "\n",
    "The union() method returns a new set with all items from both sets.\n",
    "\n",
    "\n",
    "#Example\n",
    "\n",
    "Join set1 and set2 into a new set:"
   ]
  },
  {
   "cell_type": "code",
   "execution_count": 1,
   "metadata": {},
   "outputs": [
    {
     "name": "stdout",
     "output_type": "stream",
     "text": [
      "{1, 'a', 2, 'b', 3, 'c'}\n"
     ]
    }
   ],
   "source": [
    "set1 = {\"a\", \"b\", \"c\"}\n",
    "set2 = {1, 2, 3}\n",
    "\n",
    "set3 = set1.union(set2)\n",
    "print(set3)"
   ]
  },
  {
   "cell_type": "markdown",
   "metadata": {},
   "source": [
    "You can use the | operator instead of the union() method, and you will get the same result.\n",
    "\n",
    "\n",
    "#Example\n",
    "\n",
    "Use | to join two sets:"
   ]
  },
  {
   "cell_type": "code",
   "execution_count": 2,
   "metadata": {},
   "outputs": [
    {
     "name": "stdout",
     "output_type": "stream",
     "text": [
      "{1, 'a', 2, 'b', 3, 'c'}\n"
     ]
    }
   ],
   "source": [
    "set1 = {\"a\", \"b\", \"c\"}\n",
    "set2 = {1, 2, 3}\n",
    "\n",
    "set3 = set1 | set2\n",
    "print(set3)"
   ]
  },
  {
   "cell_type": "markdown",
   "metadata": {},
   "source": [
    "#Join Multiple Sets\n",
    "\n",
    "All the joining methods and operators can be used to join multiple sets.\n",
    "\n",
    "When using a method, just add more sets in the parentheses, separated by commas:\n",
    "\n",
    "\n",
    "#Example\n",
    "\n",
    "Join multiple sets with the union() method:"
   ]
  },
  {
   "cell_type": "code",
   "execution_count": 3,
   "metadata": {},
   "outputs": [
    {
     "name": "stdout",
     "output_type": "stream",
     "text": [
      "{1, 2, 3, 'b', 'apple', 'cherry', 'c', 'John', 'Elena', 'bananas', 'a'}\n"
     ]
    }
   ],
   "source": [
    "set1 = {\"a\", \"b\", \"c\"}\n",
    "set2 = {1, 2, 3}\n",
    "set3 = {\"John\", \"Elena\"}\n",
    "set4 = {\"apple\", \"bananas\", \"cherry\"}\n",
    "\n",
    "myset = set1.union(set2, set3, set4)\n",
    "print(myset)"
   ]
  },
  {
   "cell_type": "markdown",
   "metadata": {},
   "source": [
    "When using the | operator, separate the sets with more | operators:\n",
    "\n",
    "\n",
    "#Example\n",
    "\n",
    "Use | to join two sets:"
   ]
  },
  {
   "cell_type": "code",
   "execution_count": 4,
   "metadata": {},
   "outputs": [
    {
     "name": "stdout",
     "output_type": "stream",
     "text": [
      "{1, 2, 3, 'b', 'apple', 'cherry', 'c', 'John', 'Elena', 'bananas', 'a'}\n"
     ]
    }
   ],
   "source": [
    "set1 = {\"a\", \"b\", \"c\"}\n",
    "set2 = {1, 2, 3}\n",
    "set3 = {\"John\", \"Elena\"}\n",
    "set4 = {\"apple\", \"bananas\", \"cherry\"}\n",
    "\n",
    "myset = set1 | set2 | set3 |set4\n",
    "print(myset)"
   ]
  },
  {
   "cell_type": "markdown",
   "metadata": {},
   "source": [
    "#Join a Set and a Tuple\n",
    "\n",
    "The union() method allows you to join a set with other data types, like lists or tuples.\n",
    "\n",
    "The result will be a set.\n",
    "\n",
    "\n",
    "#Example\n",
    "\n",
    "Join a set with a tuple:"
   ]
  },
  {
   "cell_type": "code",
   "execution_count": 5,
   "metadata": {},
   "outputs": [
    {
     "name": "stdout",
     "output_type": "stream",
     "text": [
      "{1, 2, 3, 'b', 'c', 'a'}\n"
     ]
    }
   ],
   "source": [
    "x = {\"a\", \"b\", \"c\"}\n",
    "y = (1, 2, 3)\n",
    "\n",
    "z = x.union(y)\n",
    "print(z)\n",
    "\n",
    "#Note: The  | operator only allows you to join sets with sets, and not with other data types like you can with the  union() method."
   ]
  },
  {
   "cell_type": "markdown",
   "metadata": {},
   "source": [
    "#Update\n",
    "\n",
    "The update() method inserts all items from one set into another.\n",
    "\n",
    "The update() changes the original set, and does not return a new set.\n",
    "\n",
    "\n",
    "#Example\n",
    "\n",
    "The update() method inserts the items in set2 into set1:"
   ]
  },
  {
   "cell_type": "code",
   "execution_count": 6,
   "metadata": {},
   "outputs": [
    {
     "name": "stdout",
     "output_type": "stream",
     "text": [
      "{1, 'a', 2, 'b', 3, 'c'}\n"
     ]
    }
   ],
   "source": [
    "set1 = {\"a\", \"b\" , \"c\"}\n",
    "set2 = {1, 2, 3}\n",
    "\n",
    "set1.update(set2)\n",
    "print(set1)\n",
    "\n",
    "#Note: Both union() and update() will exclude any duplicate items."
   ]
  },
  {
   "cell_type": "markdown",
   "metadata": {},
   "source": [
    "#Intersection\n",
    "\n",
    "Keep ONLY the duplicates\n",
    "\n",
    "The intersection() method will return a new set, that only contains the items that are present in both sets.\n",
    "\n",
    "\n",
    "#Example\n",
    "\n",
    "Join set1 and set2, but keep only the duplicates:"
   ]
  },
  {
   "cell_type": "code",
   "execution_count": 7,
   "metadata": {},
   "outputs": [
    {
     "name": "stdout",
     "output_type": "stream",
     "text": [
      "{'apple'}\n"
     ]
    }
   ],
   "source": [
    "set1 = {\"apple\", \"banana\", \"cherry\"}\n",
    "set2 = {\"google\", \"microsoft\", \"apple\"}\n",
    "\n",
    "set3 = set1.intersection(set2)\n",
    "print(set3)"
   ]
  },
  {
   "cell_type": "markdown",
   "metadata": {},
   "source": [
    "You can use the & operator instead of the intersection() method, and you will get the same result.\n",
    "\n",
    "\n",
    "#Example\n",
    "\n",
    "Use & to join two sets:"
   ]
  },
  {
   "cell_type": "code",
   "execution_count": 8,
   "metadata": {},
   "outputs": [
    {
     "name": "stdout",
     "output_type": "stream",
     "text": [
      "{'apple'}\n"
     ]
    }
   ],
   "source": [
    "set1 = {\"apple\", \"banana\", \"cherry\"}\n",
    "set2 = {\"google\", \"microsoft\", \"apple\"}\n",
    "\n",
    "set3 = set1 & set2\n",
    "print(set3)\n",
    "\n",
    "#Note: The & operator only allows you to join sets with sets, and not with other data types like you can with the intersection() method."
   ]
  },
  {
   "cell_type": "markdown",
   "metadata": {},
   "source": [
    "The intersection_update() method will also keep ONLY the duplicates, but it will change the original set instead of returning a new set.\n",
    "\n",
    "\n",
    "#Example\n",
    "\n",
    "Keep the items that exist in both set1, and set2:"
   ]
  },
  {
   "cell_type": "code",
   "execution_count": 9,
   "metadata": {},
   "outputs": [
    {
     "name": "stdout",
     "output_type": "stream",
     "text": [
      "{'apple'}\n"
     ]
    }
   ],
   "source": [
    "set1 = {\"apple\", \"banana\", \"cherry\"}\n",
    "set2 = {\"google\", \"microsoft\", \"apple\"}\n",
    "\n",
    "set1.intersection_update(set2)\n",
    "\n",
    "print(set1)"
   ]
  },
  {
   "cell_type": "markdown",
   "metadata": {},
   "source": [
    "The values True and 1 are considered the same value. The same goes for False and 0.\n",
    "\n",
    "\n",
    "#Example\n",
    "\n",
    "Join sets that contains the values True, False, 1, and 0, and see what is considered as duplicates:"
   ]
  },
  {
   "cell_type": "code",
   "execution_count": 10,
   "metadata": {},
   "outputs": [
    {
     "name": "stdout",
     "output_type": "stream",
     "text": [
      "{False, 1, 'apple'}\n"
     ]
    }
   ],
   "source": [
    "set1 = {\"apple\", 1,  \"banana\", 0, \"cherry\"}\n",
    "set2 = {False, \"google\", 1, \"apple\", 2, True}\n",
    "\n",
    "set3 = set1.intersection(set2)\n",
    "\n",
    "print(set3)"
   ]
  },
  {
   "cell_type": "markdown",
   "metadata": {},
   "source": [
    "#Difference\n",
    "\n",
    "The difference() method will return a new set that will contain only the items from the first set that are not present in the other set.\n",
    "\n",
    "\n",
    "#Example\n",
    "\n",
    "Keep all items from set1 that are not in set2:"
   ]
  },
  {
   "cell_type": "code",
   "execution_count": 11,
   "metadata": {},
   "outputs": [
    {
     "name": "stdout",
     "output_type": "stream",
     "text": [
      "{'banana', 'cherry'}\n"
     ]
    }
   ],
   "source": [
    "set1 = {\"apple\", \"banana\", \"cherry\"}\n",
    "set2 = {\"google\", \"microsoft\", \"apple\"}\n",
    "\n",
    "set3 = set1.difference(set2)\n",
    "\n",
    "print(set3) "
   ]
  },
  {
   "cell_type": "markdown",
   "metadata": {},
   "source": [
    "You can use the - operator instead of the difference() method, and you will get the same result.\n",
    "\n",
    "\n",
    "#Example\n",
    "\n",
    "Use - to join two sets:"
   ]
  },
  {
   "cell_type": "code",
   "execution_count": 12,
   "metadata": {},
   "outputs": [
    {
     "name": "stdout",
     "output_type": "stream",
     "text": [
      "{'banana', 'cherry'}\n"
     ]
    }
   ],
   "source": [
    "set1 = {\"apple\", \"banana\", \"cherry\"}\n",
    "set2 = {\"google\", \"microsoft\", \"apple\"}\n",
    "\n",
    "set3 = set1 - set2\n",
    "print(set3)\n",
    "\n",
    "#Note: The - operator only allows you to join sets with sets, and not with other data types like you can with the difference() method."
   ]
  },
  {
   "cell_type": "markdown",
   "metadata": {},
   "source": [
    "The difference_update() method will also keep the items from the first set that are not in the other set, but it will change the original set instead of returning a new set.\n",
    "\n",
    "\n",
    "#Example\n",
    "\n",
    "Use the difference_update() method to keep the items that are not present in both sets:"
   ]
  },
  {
   "cell_type": "code",
   "execution_count": 13,
   "metadata": {},
   "outputs": [
    {
     "name": "stdout",
     "output_type": "stream",
     "text": [
      "{'banana', 'cherry'}\n"
     ]
    }
   ],
   "source": [
    "set1 = {\"apple\", \"banana\", \"cherry\"}\n",
    "set2 = {\"google\", \"microsoft\", \"apple\"}\n",
    "\n",
    "set1.difference_update(set2)\n",
    "\n",
    "print(set1)"
   ]
  },
  {
   "cell_type": "markdown",
   "metadata": {},
   "source": [
    "#Symmetric Differences\n",
    "\n",
    "The symmetric_difference() method will keep only the elements that are NOT present in both sets.\n",
    "\n",
    "\n",
    "#Example\n",
    "\n",
    "Keep the items that are not present in both sets:"
   ]
  },
  {
   "cell_type": "code",
   "execution_count": 14,
   "metadata": {},
   "outputs": [
    {
     "name": "stdout",
     "output_type": "stream",
     "text": [
      "{'google', 'microsoft', 'banana', 'cherry'}\n"
     ]
    }
   ],
   "source": [
    "set1 = {\"apple\", \"banana\", \"cherry\"}\n",
    "set2 = {\"google\", \"microsoft\", \"apple\"}\n",
    "\n",
    "set3 = set1.symmetric_difference(set2)\n",
    "\n",
    "print(set3)"
   ]
  },
  {
   "cell_type": "markdown",
   "metadata": {},
   "source": [
    "You can use the ^ operator instead of the symmetric_difference() method, and you will get the same result.\n",
    "\n",
    "\n",
    "#Example\n",
    "\n",
    "Use ^ to join two sets:"
   ]
  },
  {
   "cell_type": "code",
   "execution_count": 15,
   "metadata": {},
   "outputs": [
    {
     "name": "stdout",
     "output_type": "stream",
     "text": [
      "{'google', 'microsoft', 'banana', 'cherry'}\n"
     ]
    }
   ],
   "source": [
    "set1 = {\"apple\", \"banana\", \"cherry\"}\n",
    "set2 = {\"google\", \"microsoft\", \"apple\"}\n",
    "\n",
    "set3 = set1 ^ set2\n",
    "print(set3)\n",
    "\n",
    "#Note: The ^ operator only allows you to join sets with sets, and not with other data types like you can with the symmetric_difference() method."
   ]
  },
  {
   "cell_type": "markdown",
   "metadata": {},
   "source": [
    "The symmetric_difference_update() method will also keep all but the duplicates, but it will change the original set instead of returning a new set.\n",
    "\n",
    "\n",
    "#Example\n",
    "\n",
    "Use the symmetric_difference_update() method to keep the items that are not present in both sets:"
   ]
  },
  {
   "cell_type": "code",
   "execution_count": 16,
   "metadata": {},
   "outputs": [
    {
     "name": "stdout",
     "output_type": "stream",
     "text": [
      "{'microsoft', 'banana', 'cherry', 'google'}\n"
     ]
    }
   ],
   "source": [
    "set1 = {\"apple\", \"banana\", \"cherry\"}\n",
    "set2 = {\"google\", \"microsoft\", \"apple\"}\n",
    "\n",
    "set1.symmetric_difference_update(set2)\n",
    "\n",
    "print(set1)"
   ]
  }
 ],
 "metadata": {
  "kernelspec": {
   "display_name": "Python 3",
   "language": "python",
   "name": "python3"
  },
  "language_info": {
   "codemirror_mode": {
    "name": "ipython",
    "version": 3
   },
   "file_extension": ".py",
   "mimetype": "text/x-python",
   "name": "python",
   "nbconvert_exporter": "python",
   "pygments_lexer": "ipython3",
   "version": "3.13.1"
  }
 },
 "nbformat": 4,
 "nbformat_minor": 2
}
