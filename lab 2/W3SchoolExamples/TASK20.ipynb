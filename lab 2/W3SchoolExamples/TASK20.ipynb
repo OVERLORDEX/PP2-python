{
 "cells": [
  {
   "cell_type": "markdown",
   "metadata": {},
   "source": [
    "<<Python Sets Topic 5>>\n",
    "\n",
    "myset = {\"apple\", \"banana\", \"cherry\"}"
   ]
  },
  {
   "cell_type": "markdown",
   "metadata": {},
   "source": [
    "#Set\n",
    "\n",
    "Sets are used to store multiple items in a single variable.\n",
    "\n",
    "Set is one of 4 built-in data types in Python used to store collections of data, the other 3 are List, Tuple, and Dictionary, all with different qualities and usage.\n",
    "\n",
    "A set is a collection which is unordered, unchangeable*, and unindexed."
   ]
  },
  {
   "cell_type": "markdown",
   "metadata": {},
   "source": [
    "#Note: Set items are unchangeable, but you can remove items and add new items.\n",
    "\n",
    "Sets are written with curly brackets.\n",
    "\n",
    "\n",
    "#Example\n",
    "\n",
    "Create a Set:"
   ]
  },
  {
   "cell_type": "code",
   "execution_count": 10,
   "metadata": {},
   "outputs": [
    {
     "name": "stdout",
     "output_type": "stream",
     "text": [
      "{'cherry', 'apple', 'banana'}\n"
     ]
    }
   ],
   "source": [
    "thisset = {\"apple\", \"banana\", \"cherry\"}\n",
    "print(thisset)\n",
    "\n",
    "#Note: Sets are unordered, so you cannot be sure in which order the items will appear."
   ]
  },
  {
   "cell_type": "markdown",
   "metadata": {},
   "source": [
    "#Set Items\n",
    "\n",
    "Set items are unordered, unchangeable, and do not allow duplicate values."
   ]
  },
  {
   "cell_type": "markdown",
   "metadata": {},
   "source": [
    "#Unordered\n",
    "\n",
    "Unordered means that the items in a set do not have a defined order.\n",
    "\n",
    "Set items can appear in a different order every time you use them, and cannot be referred to by index or key."
   ]
  },
  {
   "cell_type": "markdown",
   "metadata": {},
   "source": [
    "#Unchangeable\n",
    "\n",
    "Set items are unchangeable, meaning that we cannot change the items after the set has been created.\n",
    "\n",
    "Once a set is created, you cannot change its items, but you can remove items and add new items."
   ]
  },
  {
   "cell_type": "markdown",
   "metadata": {},
   "source": [
    "#Duplicates Not Allowed\n",
    "\n",
    "Sets cannot have two items with the same value.\n",
    "\n",
    "\n",
    "#Example\n",
    "\n",
    "Duplicate values will be ignored:"
   ]
  },
  {
   "cell_type": "code",
   "execution_count": 11,
   "metadata": {},
   "outputs": [
    {
     "name": "stdout",
     "output_type": "stream",
     "text": [
      "{'cherry', 'apple', 'banana'}\n"
     ]
    }
   ],
   "source": [
    "thisset = {\"apple\", \"banana\", \"cherry\", \"apple\"}\n",
    "\n",
    "print(thisset)\n",
    "\n",
    "#Note: The values True and 1 are considered the same value in sets, and are treated as duplicates:"
   ]
  },
  {
   "cell_type": "markdown",
   "metadata": {},
   "source": [
    "#Example\n",
    "\n",
    "True and 1 is considered the same value:"
   ]
  },
  {
   "cell_type": "code",
   "execution_count": 12,
   "metadata": {},
   "outputs": [
    {
     "name": "stdout",
     "output_type": "stream",
     "text": [
      "{True, 2, 'apple', 'cherry', 'banana'}\n"
     ]
    }
   ],
   "source": [
    "thisset = {\"apple\", \"banana\", \"cherry\", True, 1, 2}\n",
    "\n",
    "print(thisset)\n",
    "\n",
    "#Note: The values False and 0 are considered the same value in sets, and are treated as duplicates:"
   ]
  },
  {
   "cell_type": "markdown",
   "metadata": {},
   "source": [
    "#Example\n",
    "\n",
    "False and 0 is considered the same value:"
   ]
  },
  {
   "cell_type": "code",
   "execution_count": 13,
   "metadata": {},
   "outputs": [
    {
     "name": "stdout",
     "output_type": "stream",
     "text": [
      "{False, True, 'apple', 'cherry', 'banana'}\n"
     ]
    }
   ],
   "source": [
    "thisset = {\"apple\", \"banana\", \"cherry\", False, True, 0}\n",
    "\n",
    "print(thisset)"
   ]
  },
  {
   "cell_type": "markdown",
   "metadata": {},
   "source": [
    "#Get the Length of a Set\n",
    "\n",
    "To determine how many items a set has, use the len() function.\n",
    "\n",
    "\n",
    "#Example\n",
    "\n",
    "Get the number of items in a set:"
   ]
  },
  {
   "cell_type": "code",
   "execution_count": 14,
   "metadata": {},
   "outputs": [
    {
     "name": "stdout",
     "output_type": "stream",
     "text": [
      "3\n"
     ]
    }
   ],
   "source": [
    "thisset = {\"apple\", \"banana\", \"cherry\"}\n",
    "\n",
    "print(len(thisset))"
   ]
  },
  {
   "cell_type": "markdown",
   "metadata": {},
   "source": [
    "#Set Items - Data Types\n",
    "\n",
    "Set items can be of any data type:\n",
    "\n",
    "\n",
    "#Example\n",
    "\n",
    "String, int and boolean data types:"
   ]
  },
  {
   "cell_type": "code",
   "execution_count": 15,
   "metadata": {},
   "outputs": [],
   "source": [
    "set1 = {\"apple\", \"banana\", \"cherry\"}\n",
    "set2 = {1, 5, 7, 9, 3}\n",
    "set3 = {True, False, False}"
   ]
  },
  {
   "cell_type": "markdown",
   "metadata": {},
   "source": [
    "A set can contain different data types:\n",
    "\n",
    "\n",
    "#Example\n",
    "\n",
    "A set with strings, integers and boolean values:"
   ]
  },
  {
   "cell_type": "code",
   "execution_count": 16,
   "metadata": {},
   "outputs": [],
   "source": [
    "set1 = {\"abc\", 34, True, 40, \"male\"}"
   ]
  },
  {
   "cell_type": "markdown",
   "metadata": {},
   "source": [
    "#type()\n",
    "\n",
    "From Python's perspective, sets are defined as objects with the data type 'set':\n",
    "\n",
    "<<class 'set'>>\n",
    "\n",
    "\n",
    "#Example\n",
    "\n",
    "What is the data type of a set?"
   ]
  },
  {
   "cell_type": "code",
   "execution_count": 17,
   "metadata": {},
   "outputs": [
    {
     "name": "stdout",
     "output_type": "stream",
     "text": [
      "<class 'set'>\n"
     ]
    }
   ],
   "source": [
    "myset = {\"apple\", \"banana\", \"cherry\"}\n",
    "print(type(myset))"
   ]
  },
  {
   "cell_type": "markdown",
   "metadata": {},
   "source": [
    "#The set() Constructor\n",
    "\n",
    "It is also possible to use the set() constructor to make a set.\n",
    "\n",
    "\n",
    "#Example\n",
    "\n",
    "Using the set() constructor to make a set:"
   ]
  },
  {
   "cell_type": "code",
   "execution_count": 18,
   "metadata": {},
   "outputs": [
    {
     "name": "stdout",
     "output_type": "stream",
     "text": [
      "{'cherry', 'apple', 'banana'}\n"
     ]
    }
   ],
   "source": [
    "thisset = set((\"apple\", \"banana\", \"cherry\")) # note the double round-brackets\n",
    "print(thisset)"
   ]
  },
  {
   "cell_type": "markdown",
   "metadata": {},
   "source": [
    "#Python Collections (Arrays)\n",
    "\n",
    "There are four collection data types in the Python programming language:\n",
    "\n",
    "*List is a collection which is ordered and changeable. Allows duplicate members.\n",
    "\n",
    "*Tuple is a collection which is ordered and unchangeable. Allows duplicate members.\n",
    "\n",
    "*Set is a collection which is unordered, unchangeable, and unindexed. No duplicate members.\n",
    "\n",
    "*Dictionary is a collection which is ordered and changeable. No duplicate members."
   ]
  }
 ],
 "metadata": {
  "kernelspec": {
   "display_name": "Python 3",
   "language": "python",
   "name": "python3"
  },
  "language_info": {
   "codemirror_mode": {
    "name": "ipython",
    "version": 3
   },
   "file_extension": ".py",
   "mimetype": "text/x-python",
   "name": "python",
   "nbconvert_exporter": "python",
   "pygments_lexer": "ipython3",
   "version": "3.13.1"
  }
 },
 "nbformat": 4,
 "nbformat_minor": 2
}
