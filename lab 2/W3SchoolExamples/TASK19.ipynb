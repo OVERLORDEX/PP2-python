{
 "cells": [
  {
   "cell_type": "markdown",
   "metadata": {},
   "source": [
    "<<Python - Tuple Methods Topic 4>>"
   ]
  },
  {
   "cell_type": "markdown",
   "metadata": {},
   "source": [
    "#Tuple Methods\n",
    "\n",
    "Python has two built-in methods that you can use on tuples.\n",
    "\n",
    "\n",
    "#count() --> Returns the number of times a specified value occurs in a tuple\n",
    "\n",
    "index() -->\tSearches the tuple for a specified value and returns the position of where it was found"
   ]
  }
 ],
 "metadata": {
  "language_info": {
   "name": "python"
  }
 },
 "nbformat": 4,
 "nbformat_minor": 2
}
