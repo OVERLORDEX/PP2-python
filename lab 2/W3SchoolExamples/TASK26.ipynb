{
 "cells": [
  {
   "cell_type": "markdown",
   "metadata": {},
   "source": [
    "<<Python - Set Methods Topic 5>>"
   ]
  },
  {
   "cell_type": "markdown",
   "metadata": {},
   "source": [
    "#Set Methods\n",
    "\n",
    "Python has a set of built-in methods that you can use on sets.\n",
    "\n",
    "\n",
    "add() --> Adds an element to the set\n",
    "\n",
    "clear() --> Removes all the elements from the set\n",
    "\n",
    "copy() --> Returns a copy of the set\n",
    "\n",
    "difference() --> (-)Returns a set containing the difference between two or more sets\n",
    "\n",
    "difference_update()\t--> (-=)Removes the items in this set that are also included in another, specified set\n",
    "\n",
    "discard() --> Remove the specified item\n",
    "\n",
    "intersection() --> (&)Returns a set, that is the intersection of two other sets\n",
    "\n",
    "intersection_update() -->(&=)Removes the items in this set that are not present in other, specified set(s)\n",
    "\n",
    "isdisjoint() --> Returns whether two sets have a intersection or not\n",
    "\n",
    "issubset() --> (<=)Returns whether another set contains this set or not\n",
    "\n",
    " \t(<)Returns whether all items in this set is present in other, specified set(s)\n",
    "\n",
    "issuperset() --> (>=)Returns whether this set contains another set or not\n",
    "\n",
    " \t(>)Returns whether all items in other, specified set(s) is present in this set\n",
    "\n",
    "pop() --> Removes an element from the set\n",
    "\n",
    "remove() --> Removes the specified element\n",
    "\n",
    "symmetric_difference() --> (^)Returns a set with the symmetric differences of two sets\n",
    "\n",
    "symmetric_difference_update() --> (^=)Inserts the symmetric differences from this set and another\n",
    "\n",
    "union() --> (|)Return a set containing the union of sets\n",
    "\n",
    "update() -->(|=)Update the set with the union of this set and others"
   ]
  }
 ],
 "metadata": {
  "language_info": {
   "name": "python"
  }
 },
 "nbformat": 4,
 "nbformat_minor": 2
}
