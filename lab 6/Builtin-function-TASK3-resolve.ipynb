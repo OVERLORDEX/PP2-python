{
 "cells": [
  {
   "cell_type": "markdown",
   "metadata": {},
   "source": [
    "#TASK 3\n",
    "\n",
    "Write a Python program with builtin function that checks whether a passed string is palindrome or not."
   ]
  },
  {
   "cell_type": "code",
   "execution_count": 1,
   "metadata": {},
   "outputs": [
    {
     "name": "stdout",
     "output_type": "stream",
     "text": [
      "Is palindrome? True\n"
     ]
    }
   ],
   "source": [
    "def is_palindrome(s):\n",
    "    return s == ''.join(reversed(s))\n",
    "\n",
    "word = \"madam\"\n",
    "print(\"Is palindrome?\", is_palindrome(word))"
   ]
  }
 ],
 "metadata": {
  "kernelspec": {
   "display_name": "Python 3",
   "language": "python",
   "name": "python3"
  },
  "language_info": {
   "codemirror_mode": {
    "name": "ipython",
    "version": 3
   },
   "file_extension": ".py",
   "mimetype": "text/x-python",
   "name": "python",
   "nbconvert_exporter": "python",
   "pygments_lexer": "ipython3",
   "version": "3.13.1"
  }
 },
 "nbformat": 4,
 "nbformat_minor": 2
}
