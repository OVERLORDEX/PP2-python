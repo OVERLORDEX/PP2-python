{
 "cells": [
  {
   "cell_type": "markdown",
   "metadata": {},
   "source": [
    "#1 Directories and Files"
   ]
  },
  {
   "cell_type": "code",
   "execution_count": 1,
   "metadata": {},
   "outputs": [],
   "source": [
    "import os\n",
    "\n",
    "# Creating a directory\n",
    "os.mkdir(\"example_dir\")"
   ]
  },
  {
   "cell_type": "code",
   "execution_count": 2,
   "metadata": {},
   "outputs": [
    {
     "name": "stdout",
     "output_type": "stream",
     "text": [
      "Current directory contents: ['Examples-and-training.ipynb', 'example_dir']\n"
     ]
    }
   ],
   "source": [
    "import os\n",
    "\n",
    "# Listing contents of the current directory\n",
    "print(\"Current directory contents:\", os.listdir(\".\"))"
   ]
  },
  {
   "cell_type": "code",
   "execution_count": 4,
   "metadata": {},
   "outputs": [],
   "source": [
    "import os\n",
    "\n",
    "# Creating a file inside the directory\n",
    "with open(\"example_dir/sample.txt\", \"w\") as f:\n",
    "    f.write(\"Hello, this is a test file.DONT WORRY!\\n\")"
   ]
  },
  {
   "cell_type": "code",
   "execution_count": 5,
   "metadata": {},
   "outputs": [
    {
     "name": "stdout",
     "output_type": "stream",
     "text": [
      "File contents: Hello, this is a test file.DONT WORRY!\n",
      "\n"
     ]
    }
   ],
   "source": [
    "import os\n",
    "\n",
    "# Reading the file\n",
    "with open(\"example_dir/sample.txt\", \"r\") as f:\n",
    "    print(\"File contents:\", f.read())"
   ]
  },
  {
   "cell_type": "code",
   "execution_count": 6,
   "metadata": {},
   "outputs": [],
   "source": [
    "import os\n",
    "\n",
    "# Renaming the file\n",
    "os.rename(\"example_dir/sample.txt\", \"example_dir/new_sample.txt\")"
   ]
  },
  {
   "cell_type": "code",
   "execution_count": 7,
   "metadata": {},
   "outputs": [],
   "source": [
    "import os\n",
    "\n",
    "# Deleting the file\n",
    "os.remove(\"example_dir/new_sample.txt\")"
   ]
  },
  {
   "cell_type": "code",
   "execution_count": 8,
   "metadata": {},
   "outputs": [],
   "source": [
    "import os\n",
    "\n",
    "# Removing the directory\n",
    "os.rmdir(\"example_dir\")"
   ]
  },
  {
   "cell_type": "markdown",
   "metadata": {},
   "source": [
    "#2 Python File Handling"
   ]
  },
  {
   "cell_type": "code",
   "execution_count": 9,
   "metadata": {},
   "outputs": [],
   "source": [
    "import os\n",
    "\n",
    "# Writing to a file\n",
    "with open(\"test.txt\", \"w\") as f:\n",
    "    f.write(\"This is a sample file.\\nSecond line of text.\")"
   ]
  },
  {
   "cell_type": "code",
   "execution_count": 10,
   "metadata": {},
   "outputs": [
    {
     "name": "stdout",
     "output_type": "stream",
     "text": [
      "\n",
      "Reading file line by line:\n",
      "This is a sample file.\n",
      "Second line of text.\n"
     ]
    }
   ],
   "source": [
    "import os\n",
    "\n",
    "# Reading a file\n",
    "with open(\"test.txt\", \"r\") as f:\n",
    "    print(\"\\nReading file line by line:\")\n",
    "    for line in f:\n",
    "        print(line.strip())"
   ]
  },
  {
   "cell_type": "code",
   "execution_count": 12,
   "metadata": {},
   "outputs": [],
   "source": [
    "import os\n",
    "\n",
    "# Appending to a file\n",
    "with open(\"test.txt\", \"a\") as f:\n",
    "    f.write(\"\\nAppended line(this extra).\")"
   ]
  },
  {
   "cell_type": "code",
   "execution_count": 13,
   "metadata": {},
   "outputs": [],
   "source": [
    "import os\n",
    "\n",
    "# Checking if a file exists before deleting\n",
    "if os.path.exists(\"test.txt\"):\n",
    "    os.remove(\"test.txt\")"
   ]
  },
  {
   "cell_type": "markdown",
   "metadata": {},
   "source": [
    "#3 Working with Directories"
   ]
  },
  {
   "cell_type": "code",
   "execution_count": 14,
   "metadata": {},
   "outputs": [
    {
     "name": "stdout",
     "output_type": "stream",
     "text": [
      "\n",
      "Current working directory: d:\\PP2 python\\lab 6\n"
     ]
    }
   ],
   "source": [
    "import os\n",
    "\n",
    "# Get current working directory\n",
    "print(\"\\nCurrent working directory:\", os.getcwd())"
   ]
  },
  {
   "cell_type": "code",
   "execution_count": 16,
   "metadata": {},
   "outputs": [
    {
     "name": "stdout",
     "output_type": "stream",
     "text": [
      "New folder created.\n"
     ]
    }
   ],
   "source": [
    "import os\n",
    "\n",
    "# Checking if a directory exists\n",
    "if not os.path.exists(\"new_folder\"):\n",
    "    os.mkdir(\"new_folder\")\n",
    "print(\"New folder created.\")"
   ]
  },
  {
   "cell_type": "code",
   "execution_count": 17,
   "metadata": {},
   "outputs": [],
   "source": [
    "import os\n",
    "\n",
    "# Removing the created directory\n",
    "os.rmdir(\"new_folder\")"
   ]
  },
  {
   "cell_type": "markdown",
   "metadata": {},
   "source": [
    "#4 Built-in Functions"
   ]
  },
  {
   "cell_type": "code",
   "execution_count": 18,
   "metadata": {},
   "outputs": [
    {
     "name": "stdout",
     "output_type": "stream",
     "text": [
      "\n",
      "Converted string to int: 123\n"
     ]
    }
   ],
   "source": [
    "import os\n",
    "\n",
    "# Data type conversion\n",
    "num_str = \"123\"\n",
    "num_int = int(num_str)\n",
    "print(\"\\nConverted string to int:\", num_int)"
   ]
  },
  {
   "cell_type": "code",
   "execution_count": 19,
   "metadata": {},
   "outputs": [
    {
     "name": "stdout",
     "output_type": "stream",
     "text": [
      "Sum: 30 Min: 5 Max: 15\n"
     ]
    }
   ],
   "source": [
    "import os\n",
    "\n",
    "# Mathematical functions\n",
    "numbers = [5, 10, 15]\n",
    "print(\"Sum:\", sum(numbers), \"Min:\", min(numbers), \"Max:\", max(numbers))"
   ]
  },
  {
   "cell_type": "code",
   "execution_count": 20,
   "metadata": {},
   "outputs": [
    {
     "name": "stdout",
     "output_type": "stream",
     "text": [
      "Sorted list: [5, 10, 15]\n",
      "Enumerated list: [(0, 5), (1, 10), (2, 15)]\n"
     ]
    }
   ],
   "source": [
    "import os\n",
    "\n",
    "# Iterables and sequences\n",
    "print(\"Sorted list:\", sorted(numbers))\n",
    "print(\"Enumerated list:\", list(enumerate(numbers)))"
   ]
  },
  {
   "cell_type": "code",
   "execution_count": 21,
   "metadata": {},
   "outputs": [
    {
     "name": "stdout",
     "output_type": "stream",
     "text": [
      "Upper:   PYTHON IS FUN  \n",
      "Lower:   python is fun  \n",
      "Stripped: Python is fun\n"
     ]
    }
   ],
   "source": [
    "import os\n",
    "\n",
    "# String operations\n",
    "sample_text = \"  Python is fun  \"\n",
    "print(\"Upper:\", sample_text.upper())\n",
    "print(\"Lower:\", sample_text.lower())\n",
    "print(\"Stripped:\", sample_text.strip())"
   ]
  },
  {
   "cell_type": "code",
   "execution_count": 22,
   "metadata": {},
   "outputs": [
    {
     "name": "stdout",
     "output_type": "stream",
     "text": [
      "All True? False\n",
      "Any True? True\n"
     ]
    }
   ],
   "source": [
    "import os\n",
    "\n",
    "# Logical functions\n",
    "bool_list = [True, False, True]\n",
    "print(\"All True?\", all(bool_list))\n",
    "print(\"Any True?\", any(bool_list))"
   ]
  },
  {
   "cell_type": "code",
   "execution_count": 23,
   "metadata": {},
   "outputs": [
    {
     "name": "stdout",
     "output_type": "stream",
     "text": [
      "Type of num_int: <class 'int'>\n",
      "Is num_int an integer? True\n"
     ]
    }
   ],
   "source": [
    "import os\n",
    "\n",
    "# Type checking functions\n",
    "print(\"Type of num_int:\", type(num_int))\n",
    "print(\"Is num_int an integer?\", isinstance(num_int, int))"
   ]
  }
 ],
 "metadata": {
  "kernelspec": {
   "display_name": "Python 3",
   "language": "python",
   "name": "python3"
  },
  "language_info": {
   "codemirror_mode": {
    "name": "ipython",
    "version": 3
   },
   "file_extension": ".py",
   "mimetype": "text/x-python",
   "name": "python",
   "nbconvert_exporter": "python",
   "pygments_lexer": "ipython3",
   "version": "3.13.1"
  }
 },
 "nbformat": 4,
 "nbformat_minor": 2
}
