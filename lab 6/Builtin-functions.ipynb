{
 "cells": [
  {
   "cell_type": "markdown",
   "metadata": {},
   "source": [
    "<<Python builtin functions exercises Topic 1>>"
   ]
  },
  {
   "cell_type": "markdown",
   "metadata": {},
   "source": [
    "#TASK 1\n",
    "\n",
    "Write a Python program with builtin function to multiply all the numbers in a list"
   ]
  },
  {
   "cell_type": "code",
   "execution_count": 22,
   "metadata": {},
   "outputs": [
    {
     "name": "stdout",
     "output_type": "stream",
     "text": [
      "Product of list: 120\n"
     ]
    }
   ],
   "source": [
    "from functools import reduce\n",
    "\n",
    "def multiply_list(numbers):\n",
    "    return reduce(lambda x, y: x * y, numbers)\n",
    "\n",
    "nums = [2, 3, 4, 5]\n",
    "print(\"Product of list:\", multiply_list(nums))"
   ]
  },
  {
   "cell_type": "markdown",
   "metadata": {},
   "source": [
    "#TASK 2\n",
    "\n",
    "Write a Python program with builtin function that accepts a string and calculate the number of upper case letters and lower case letters"
   ]
  },
  {
   "cell_type": "code",
   "execution_count": 23,
   "metadata": {},
   "outputs": [
    {
     "name": "stdout",
     "output_type": "stream",
     "text": [
      "Uppercase letters: 2\n",
      "Lowercase letters: 8\n"
     ]
    }
   ],
   "source": [
    "def count_case(s):\n",
    "    upper = sum(1 for c in s if c.isupper())\n",
    "    lower = sum(1 for c in s if c.islower())\n",
    "    print(\"Uppercase letters:\", upper)\n",
    "    print(\"Lowercase letters:\", lower)\n",
    "\n",
    "text = \"Hello World!\"\n",
    "count_case(text)"
   ]
  },
  {
   "cell_type": "markdown",
   "metadata": {},
   "source": [
    "#TASK 3\n",
    "\n",
    "Write a Python program with builtin function that checks whether a passed string is palindrome or not."
   ]
  },
  {
   "cell_type": "code",
   "execution_count": 24,
   "metadata": {},
   "outputs": [
    {
     "name": "stdout",
     "output_type": "stream",
     "text": [
      "Is palindrome? True\n"
     ]
    }
   ],
   "source": [
    "def is_palindrome(s):\n",
    "    return s == s[::-1]\n",
    "\n",
    "word = \"madam\"\n",
    "print(\"Is palindrome?\", is_palindrome(word))"
   ]
  },
  {
   "cell_type": "markdown",
   "metadata": {},
   "source": [
    "#TASK 4\n",
    "\n",
    "Write a Python program that invoke square root function after specific milliseconds\n",
    "\n",
    "*Sample Input:*\n",
    "\n",
    "25100\n",
    "\n",
    "2123\n",
    "\n",
    "*Sample Output:*\n",
    "\n",
    "Square root of 25100 after 2123 miliseconds is 158.42979517754858"
   ]
  },
  {
   "cell_type": "code",
   "execution_count": 25,
   "metadata": {},
   "outputs": [
    {
     "name": "stdout",
     "output_type": "stream",
     "text": [
      "Square root of 25100 after 2123 milliseconds is 158.42979517754858\n"
     ]
    }
   ],
   "source": [
    "import time\n",
    "import math\n",
    "\n",
    "def delayed_sqrt(number, delay):\n",
    "    time.sleep(delay / 1000)\n",
    "    print(f\"Square root of {number} after {delay} milliseconds is {math.sqrt(number)}\")\n",
    "\n",
    "num = 25100\n",
    "delay = 2123\n",
    "delayed_sqrt(num, delay)"
   ]
  },
  {
   "cell_type": "markdown",
   "metadata": {},
   "source": [
    "#TASK 5\n",
    "\n",
    "Write a Python program with builtin function that returns True if all elements of the tuple are true."
   ]
  },
  {
   "cell_type": "code",
   "execution_count": 26,
   "metadata": {},
   "outputs": [
    {
     "name": "stdout",
     "output_type": "stream",
     "text": [
      "Are all elements True? True\n"
     ]
    }
   ],
   "source": [
    "def all_true(t):\n",
    "    return all(t)\n",
    "\n",
    "tup = (True, True, True)\n",
    "print(\"Are all elements True?\", all_true(tup))"
   ]
  }
 ],
 "metadata": {
  "language_info": {
   "name": "python"
  }
 },
 "nbformat": 4,
 "nbformat_minor": 2
}
