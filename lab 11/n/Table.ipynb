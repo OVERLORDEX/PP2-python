{
 "cells": [
  {
   "cell_type": "code",
   "execution_count": 8,
   "id": "3606dc3a",
   "metadata": {},
   "outputs": [
    {
     "name": "stdout",
     "output_type": "stream",
     "text": [
      "✅ Таблица 'user_information' успешно создана (или уже существует).✅\n"
     ]
    }
   ],
   "source": [
    "import psycopg2\n",
    "\n",
    "conn = psycopg2.connect(\n",
    "    host='ep-divine-fog-a55emvje-pooler.us-east-2.aws.neon.tech',\n",
    "    database='neondb',\n",
    "    user='neondb_owner',\n",
    "    password='npg_Um02TyoiHXhw'\n",
    ")\n",
    "\n",
    "cur = conn.cursor()\n",
    "\n",
    "cur.execute(\"\"\"\n",
    "    CREATE TABLE IF NOT EXISTS user_information (\n",
    "        id SERIAL PRIMARY KEY,\n",
    "        name TEXT NOT NULL,\n",
    "        surname TEXT,\n",
    "        phone TEXT\n",
    "    );\n",
    "\"\"\")\n",
    "\n",
    "conn.commit()\n",
    "cur.close()\n",
    "conn.close()\n",
    "\n",
    "print(\"✅ Таблица 'user_information' успешно создана (или уже существует).✅\")\n"
   ]
  }
 ],
 "metadata": {
  "kernelspec": {
   "display_name": "Python 3",
   "language": "python",
   "name": "python3"
  },
  "language_info": {
   "codemirror_mode": {
    "name": "ipython",
    "version": 3
   },
   "file_extension": ".py",
   "mimetype": "text/x-python",
   "name": "python",
   "nbconvert_exporter": "python",
   "pygments_lexer": "ipython3",
   "version": "3.13.1"
  }
 },
 "nbformat": 4,
 "nbformat_minor": 5
}
