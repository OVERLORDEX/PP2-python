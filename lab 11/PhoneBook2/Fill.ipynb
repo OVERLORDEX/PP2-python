{
 "cells": [
  {
   "cell_type": "code",
   "execution_count": 3,
   "id": "fc719ea0",
   "metadata": {},
   "outputs": [],
   "source": [
    "import csv\n",
    "import psycopg2\n",
    "\n",
    "def insert_users_from_csv(csv_file_path):\n",
    "    conn = psycopg2.connect(\n",
    "        host='ep-divine-fog-a55emvje-pooler.us-east-2.aws.neon.tech',\n",
    "        database='neondb',\n",
    "        user='neondb_owner',\n",
    "        password='npg_Um02TyoiHXhw'\n",
    "    )\n",
    "    cur = conn.cursor()\n",
    "\n",
    "    with open(csv_file_path, newline='', encoding='utf-8') as csvfile:\n",
    "        reader = csv.reader(csvfile)\n",
    "        next(reader)\n",
    "\n",
    "        for row in reader:\n",
    "            name = row[0]\n",
    "            surname = row[1]\n",
    "            phone = row[2]\n",
    "\n",
    "            cur.execute(\"\"\"\n",
    "                INSERT INTO user_information (name, surname, phone)\n",
    "                VALUES (%s, %s, %s);\n",
    "            \"\"\", (name, surname, phone))\n",
    "\n",
    "    conn.commit()\n",
    "    cur.close()\n",
    "    conn.close()\n",
    "\n",
    "insert_users_from_csv('data.csv')\n"
   ]
  }
 ],
 "metadata": {
  "kernelspec": {
   "display_name": "Python 3",
   "language": "python",
   "name": "python3"
  },
  "language_info": {
   "codemirror_mode": {
    "name": "ipython",
    "version": 3
   },
   "file_extension": ".py",
   "mimetype": "text/x-python",
   "name": "python",
   "nbconvert_exporter": "python",
   "pygments_lexer": "ipython3",
   "version": "3.13.1"
  }
 },
 "nbformat": 4,
 "nbformat_minor": 5
}
