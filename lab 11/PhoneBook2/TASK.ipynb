{
 "cells": [
  {
   "cell_type": "markdown",
   "id": "c7674a1b",
   "metadata": {},
   "source": [
    "#TASK 1\n",
    "\n",
    "Function that returns all records based on a pattern (example of pattern: part of name, surname, phone number)"
   ]
  },
  {
   "cell_type": "code",
   "execution_count": 11,
   "id": "019f315f",
   "metadata": {},
   "outputs": [
    {
     "name": "stdout",
     "output_type": "stream",
     "text": [
      "Found:\n",
      "(4, 'Zheka', 'Simon', '3332224444')\n",
      "(6, 'Balkan', 'Kairat', '3332224444')\n"
     ]
    }
   ],
   "source": [
    "import psycopg2\n",
    "\n",
    "def search_user_information(pattern):\n",
    "    conn = psycopg2.connect(\n",
    "        host='ep-divine-fog-a55emvje-pooler.us-east-2.aws.neon.tech',\n",
    "        database='neondb',\n",
    "        user='neondb_owner',\n",
    "        password='npg_Um02TyoiHXhw'\n",
    "    )\n",
    "    cur = conn.cursor()\n",
    "    like = f\"%{pattern}%\"\n",
    "    cur.execute(\"\"\"\n",
    "        SELECT * FROM user_information\n",
    "        WHERE name ILIKE %s OR surname ILIKE %s OR phone ILIKE %s;\n",
    "    \"\"\", (like, like, like))\n",
    "    results = cur.fetchall()\n",
    "    cur.close()\n",
    "    conn.close()\n",
    "    return results\n",
    "\n",
    "pattern = input(\"Enter part of first name, last name or phone number to search: \")\n",
    "results = search_user_information(pattern)\n",
    "\n",
    "if results:\n",
    "    print(\"Found:\")\n",
    "    for row in results:\n",
    "        print(row)\n",
    "else:\n",
    "    print(\"Nothing found.\")\n"
   ]
  },
  {
   "cell_type": "markdown",
   "id": "c8b4efdf",
   "metadata": {},
   "source": [
    "#TASK 2\n",
    "\n",
    "Create procedure to insert new user by name and phone, update phone if user already exists"
   ]
  },
  {
   "cell_type": "code",
   "execution_count": null,
   "id": "25a551e0",
   "metadata": {},
   "outputs": [
    {
     "name": "stdout",
     "output_type": "stream",
     "text": [
      "✅ User Xxx has been added to the database\n"
     ]
    }
   ],
   "source": [
    "import psycopg2\n",
    "\n",
    "def insert_or_update_user(name, phone):\n",
    "    conn = psycopg2.connect(\n",
    "        host='ep-divine-fog-a55emvje-pooler.us-east-2.aws.neon.tech',\n",
    "        database='neondb',\n",
    "        user='neondb_owner',\n",
    "        password='npg_Um02TyoiHXhw'\n",
    "    )\n",
    "    cur = conn.cursor()\n",
    "    \n",
    "    cur.execute(\"SELECT * FROM user_information WHERE name = %s\", (name,))\n",
    "    if cur.fetchone():\n",
    "        cur.execute(\"UPDATE user_information SET phone = %s WHERE name = %s\", (phone, name))\n",
    "        print(f\"🔁 Phone number updated for {name}\")\n",
    "    else:\n",
    "        cur.execute(\"INSERT INTO user_information (name, phone) VALUES (%s, %s)\", (name, phone))\n",
    "        print(f\"✅ User {name} has been added to the database\")\n",
    "    \n",
    "    conn.commit()\n",
    "    cur.close()\n",
    "    conn.close()\n",
    "\n",
    "name_input = input(\"Enter user's name: \")\n",
    "phone_input = input(\"Enter user's phone number: \")\n",
    "\n",
    "insert_or_update_user(name_input, phone_input)"
   ]
  },
  {
   "cell_type": "markdown",
   "id": "d1def60d",
   "metadata": {},
   "source": [
    "#TASK 3\n",
    "\n",
    "Create procedure to insert many new users by list of name and phone. Use loop and if statement in stored procedure. Check correctness of phone in procedure and return all incorrect data."
   ]
  },
  {
   "cell_type": "code",
   "execution_count": null,
   "id": "761bdba8",
   "metadata": {},
   "outputs": [
    {
     "name": "stdout",
     "output_type": "stream",
     "text": [
      "⚠️ Invalid phone numbers found:\n",
      " - tuk duk (bbc777)\n",
      " - kuk vuk (nnn667)\n"
     ]
    }
   ],
   "source": [
    "import psycopg2\n",
    "\n",
    "# Connect to the database\n",
    "conn = psycopg2.connect(\n",
    "    host='ep-divine-fog-a55emvje-pooler.us-east-2.aws.neon.tech',\n",
    "    database='neondb',\n",
    "    user='neondb_owner',\n",
    "    password='npg_Um02TyoiHXhw'\n",
    ")\n",
    "cur = conn.cursor()\n",
    "\n",
    "cur.execute(\"\"\"\n",
    "CREATE TABLE IF NOT EXISTS user_information (\n",
    "    id SERIAL PRIMARY KEY,\n",
    "    name TEXT,\n",
    "    surname TEXT,\n",
    "    phone TEXT\n",
    ");\n",
    "\"\"\")\n",
    "conn.commit()\n",
    "\n",
    "names = input(\"Enter names (comma separated): \").split(',')\n",
    "surnames = input(\"Enter surnames (comma separated): \").split(',')\n",
    "phones = input(\"Enter phones (comma separated): \").split(',')\n",
    "\n",
    "names = [n.strip() for n in names]\n",
    "surnames = [s.strip() for s in surnames]\n",
    "phones = [p.strip() for p in phones]\n",
    "\n",
    "max_len = max(len(names), len(surnames), len(phones))\n",
    "while len(names) < max_len:\n",
    "    names.append('')\n",
    "while len(surnames) < max_len:\n",
    "    surnames.append('')\n",
    "while len(phones) < max_len:\n",
    "    phones.append('')\n",
    "\n",
    "invalid_entries = []\n",
    "\n",
    "for i in range(max_len):\n",
    "    name = names[i]\n",
    "    surname = surnames[i]\n",
    "    phone = phones[i]\n",
    "\n",
    "    if phone.isdigit() and 7 <= len(phone) <= 15:\n",
    "        cur.execute(\"\"\"\n",
    "            SELECT 1 FROM user_information\n",
    "            WHERE name = %s AND surname = %s\n",
    "        \"\"\", (name, surname))\n",
    "        exists = cur.fetchone()\n",
    "\n",
    "        if exists:\n",
    "            cur.execute(\"\"\"\n",
    "                UPDATE user_information\n",
    "                SET phone = %s\n",
    "                WHERE name = %s AND surname = %s\n",
    "            \"\"\", (phone, name, surname))\n",
    "        else:\n",
    "            cur.execute(\"\"\"\n",
    "                INSERT INTO user_information(name, surname, phone)\n",
    "                VALUES (%s, %s, %s)\n",
    "            \"\"\", (name, surname, phone))\n",
    "    else:\n",
    "        invalid_entries.append(f\"{name} {surname} ({phone})\")\n",
    "\n",
    "conn.commit()\n",
    "\n",
    "if invalid_entries:\n",
    "    print(\"⚠️ Invalid phone numbers found:\")\n",
    "    for entry in invalid_entries:\n",
    "        print(\" -\", entry)\n",
    "else:\n",
    "    print(\"✅ All users were inserted or updated successfully.\")\n",
    "\n",
    "cur.close()\n",
    "conn.close()\n"
   ]
  },
  {
   "cell_type": "markdown",
   "id": "bb9c3a1d",
   "metadata": {},
   "source": [
    "#TASK 4\n",
    "\n",
    "Create function to querying data from the tables with pagination (by limit and offset)"
   ]
  },
  {
   "cell_type": "code",
   "execution_count": 32,
   "id": "77e38ac1",
   "metadata": {},
   "outputs": [
    {
     "name": "stdout",
     "output_type": "stream",
     "text": [
      "ID: 2, Name: Aibar, Surname: Smailov, Phone: 9876543210\n",
      "ID: 3, Name: Askar, Surname: Kaldibayev, Phone: 77766655509\n",
      "ID: 4, Name: Zheka, Surname: Simon, Phone: 3332224444\n",
      "ID: 5, Name: Zelda, Surname: Duman, Phone: 12345677890\n",
      "ID: 6, Name: Balkan, Surname: Kairat, Phone: 3332224444\n",
      "ID: 7, Name: John, Surname: None, Phone: 1234567890\n",
      "ID: 8, Name: Xxx, Surname: None, Phone: 123123123\n"
     ]
    }
   ],
   "source": [
    "import psycopg2\n",
    "\n",
    "conn = psycopg2.connect(\n",
    "    host='ep-divine-fog-a55emvje-pooler.us-east-2.aws.neon.tech',\n",
    "    database='neondb',\n",
    "    user='neondb_owner',\n",
    "    password='npg_Um02TyoiHXhw'\n",
    ")\n",
    "cur = conn.cursor()\n",
    "\n",
    "cur.execute(\"\"\"\n",
    "CREATE OR REPLACE FUNCTION get_users_paginated(\n",
    "    page_limit INT,\n",
    "    page_offset INT\n",
    ") RETURNS TABLE (\n",
    "    id INTEGER,\n",
    "    name TEXT,\n",
    "    surname TEXT,\n",
    "    phone TEXT\n",
    ") AS $$\n",
    "BEGIN\n",
    "    RETURN QUERY\n",
    "    SELECT user_information.id, user_information.name, user_information.surname, user_information.phone\n",
    "    FROM user_information\n",
    "    ORDER BY user_information.id\n",
    "    LIMIT page_limit OFFSET page_offset;\n",
    "END;\n",
    "$$ LANGUAGE plpgsql;\n",
    "\"\"\")\n",
    "conn.commit()\n",
    "\n",
    "limit = int(input(\"Enter number of records per page (limit): \"))\n",
    "offset = int(input(\"Enter offset (skip how many records): \"))\n",
    "\n",
    "cur.execute(\"SELECT * FROM get_users_paginated(%s, %s);\", (limit, offset))\n",
    "rows = cur.fetchall()\n",
    "\n",
    "if rows:\n",
    "    for row in rows:\n",
    "        print(f\"ID: {row[0]}, Name: {row[1]}, Surname: {row[2]}, Phone: {row[3]}\")\n",
    "else:\n",
    "    print(\"No records found.\")\n",
    "\n",
    "cur.close()\n",
    "conn.close()\n"
   ]
  },
  {
   "cell_type": "markdown",
   "id": "6a79115c",
   "metadata": {},
   "source": [
    "#TASK 5\n",
    "\n",
    "Implement procedure to deleting data from tables by username or phone"
   ]
  },
  {
   "cell_type": "code",
   "execution_count": null,
   "id": "3c5174b4",
   "metadata": {},
   "outputs": [
    {
     "name": "stdout",
     "output_type": "stream",
     "text": [
      "✅ Stored procedure created successfully.\n",
      "Enter the user data you want to delete:\n",
      "✅ User data has been deleted successfully.\n"
     ]
    }
   ],
   "source": [
    "import psycopg2\n",
    "\n",
    "# Connect to the database\n",
    "conn = psycopg2.connect(\n",
    "    host='ep-divine-fog-a55emvje-pooler.us-east-2.aws.neon.tech',\n",
    "    database='neondb',\n",
    "    user='neondb_owner',\n",
    "    password='npg_Um02TyoiHXhw'\n",
    ")\n",
    "cur = conn.cursor()\n",
    "\n",
    "cur.execute(\"\"\"\n",
    "DROP PROCEDURE IF EXISTS delete_user_data(TEXT, TEXT, TEXT);\n",
    "\"\"\")\n",
    "conn.commit()\n",
    "\n",
    "cur.execute(\"\"\"\n",
    "CREATE OR REPLACE PROCEDURE delete_user_data(\n",
    "    IN p_name TEXT,\n",
    "    IN p_surname TEXT,\n",
    "    IN p_phone TEXT\n",
    ")\n",
    "LANGUAGE plpgsql\n",
    "AS $$\n",
    "BEGIN\n",
    "    -- Delete by name and surname\n",
    "    IF p_name IS NOT NULL AND p_surname IS NOT NULL THEN\n",
    "        DELETE FROM user_information WHERE name = p_name AND surname = p_surname;\n",
    "    -- Delete by phone\n",
    "    ELSIF p_phone IS NOT NULL AND p_phone <> '' THEN\n",
    "        DELETE FROM user_information WHERE phone = p_phone;\n",
    "    ELSE\n",
    "        RAISE EXCEPTION 'You must provide either both name and surname, or a phone number.';\n",
    "    END IF;\n",
    "END;\n",
    "$$;\n",
    "\"\"\")\n",
    "conn.commit()\n",
    "print(\"✅ Stored procedure created successfully.\")\n",
    "\n",
    "def delete_user(name=None, surname=None, phone=None):\n",
    "    try:\n",
    "        cur.execute(\"CALL delete_user_data(%s, %s, %s);\", (name, surname, phone))\n",
    "        conn.commit()\n",
    "        print(\"✅ User data has been deleted successfully.\")\n",
    "    except Exception as e:\n",
    "        print(\"❌ Error deleting user data:\", e)\n",
    "        conn.rollback()\n",
    "\n",
    "print(\"Enter the user data you want to delete:\")\n",
    "\n",
    "name = input(\"Enter name (or leave blank if not deleting by name): \").strip() or None\n",
    "surname = input(\"Enter surname (or leave blank if not deleting by surname): \").strip() or None\n",
    "phone = input(\"Enter phone number (or leave blank if not deleting by phone): \").strip() or None\n",
    "\n",
    "if (name and surname) or phone:\n",
    "    delete_user(name, surname, phone)\n",
    "else:\n",
    "    print(\"❌ You must provide either both name and surname, or a phone number.\")\n",
    "\n",
    "cur.close()\n",
    "conn.close()\n"
   ]
  }
 ],
 "metadata": {
  "kernelspec": {
   "display_name": "Python 3",
   "language": "python",
   "name": "python3"
  },
  "language_info": {
   "codemirror_mode": {
    "name": "ipython",
    "version": 3
   },
   "file_extension": ".py",
   "mimetype": "text/x-python",
   "name": "python",
   "nbconvert_exporter": "python",
   "pygments_lexer": "ipython3",
   "version": "3.13.1"
  }
 },
 "nbformat": 4,
 "nbformat_minor": 5
}
